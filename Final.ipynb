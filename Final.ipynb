{
  "nbformat": 4,
  "nbformat_minor": 0,
  "metadata": {
    "colab": {
      "name": "loan.ipynb",
      "version": "0.3.2",
      "provenance": [],
      "collapsed_sections": [],
      "include_colab_link": true
    },
    "kernelspec": {
      "name": "python3",
      "display_name": "Python 3"
    },
    "accelerator": "GPU"
  },
  "cells": [
    {
      "cell_type": "markdown",
      "metadata": {
        "id": "view-in-github",
        "colab_type": "text"
      },
      "source": [
        "<a href=\"https://colab.research.google.com/github/amanjeetsahu/Predicting-the-Likelihood-of-E-Signing-a-Loan-Based-on-Financial-History/blob/master/Final.ipynb\" target=\"_parent\"><img src=\"https://colab.research.google.com/assets/colab-badge.svg\" alt=\"Open In Colab\"/></a>"
      ]
    },
    {
      "metadata": {
        "collapsed": true,
        "id": "raDlu-Hea5rw",
        "colab_type": "text"
      },
      "cell_type": "markdown",
      "source": [
        "# Predicting the Likelihood of E-Signing a Loan Based on Financial History\n",
        "\n",
        "---"
      ]
    },
    {
      "metadata": {
        "id": "u41GhE7ba5r0",
        "colab_type": "text"
      },
      "cell_type": "markdown",
      "source": [
        "# Problem Statement"
      ]
    },
    {
      "metadata": {
        "id": "5K6y1fIFa5r2",
        "colab_type": "text"
      },
      "cell_type": "markdown",
      "source": [
        "*Lending companies work by analyzing the financial history of their loan applicant is not, the company then determines the terms of loan. To acquire these applicants, companies can originally receive then through their websites/apps. Often with  the help of advertisement campaigns. Other times, lending companies partner with peer to peer(P2P) lending marketplaces, in order to accquire leads of possible applicants. Some example marketplaces include Upstart, Lending Tree, and Lending club. In this project, we are going to asses the 'quality' of the leads our company receives from these marketplaces.*\n",
        "\n",
        "- **Market:** The target audience is the set of loan applicants who reached out through an intermediary marketplace.\n",
        "\n",
        "- **Product:** A Loan\n",
        "\n",
        "- **Goal:** Develop an model to predict for 'quality' applicants. In this case study, 'quality' applicants are those who reach a key part of the loan process."
      ]
    },
    {
      "metadata": {
        "id": "Zx_xwsLja5r4",
        "colab_type": "text"
      },
      "cell_type": "markdown",
      "source": [
        "# Importing Libraries"
      ]
    },
    {
      "metadata": {
        "id": "zEpqL8Xoa5r6",
        "colab_type": "code",
        "colab": {}
      },
      "cell_type": "code",
      "source": [
        "import pandas as pd\n",
        "import matplotlib.pyplot as plt\n",
        "import numpy as np\n",
        "import seaborn as sns\n",
        "pd.set_option('display.max_columns', 100) # Show all columns when looking at dataframe\n",
        "import warnings\n",
        "warnings.filterwarnings('ignore') # remove warnings from the notebook\n",
        "import random\n",
        "import time"
      ],
      "execution_count": 0,
      "outputs": []
    },
    {
      "metadata": {
        "id": "TORYBCiMa5sD",
        "colab_type": "text"
      },
      "cell_type": "markdown",
      "source": [
        "# Loading Dataset"
      ]
    },
    {
      "metadata": {
        "id": "zUPqaK4Ra5sG",
        "colab_type": "code",
        "colab": {}
      },
      "cell_type": "code",
      "source": [
        "dataset = pd.read_csv('https://raw.githubusercontent.com/amanjeetsahu/Predicting-the-Likelihood-of-E-Signing-a-Loan-Based-on-Financial-History/master/P39-Financial-Data.csv')"
      ],
      "execution_count": 0,
      "outputs": []
    },
    {
      "metadata": {
        "id": "79uXuIA5a5sM",
        "colab_type": "text"
      },
      "cell_type": "markdown",
      "source": [
        "# Exploratory Data Analysis"
      ]
    },
    {
      "metadata": {
        "id": "O4HIx4xka5sO",
        "colab_type": "text"
      },
      "cell_type": "markdown",
      "source": [
        "## Visualising the Dataset"
      ]
    },
    {
      "metadata": {
        "id": "aob1QRl5a5sQ",
        "colab_type": "code",
        "colab": {
          "base_uri": "https://localhost:8080/",
          "height": 224
        },
        "outputId": "622d7999-5e59-4c3f-e7b7-c95380313373"
      },
      "cell_type": "code",
      "source": [
        "dataset.head()"
      ],
      "execution_count": 3,
      "outputs": [
        {
          "output_type": "execute_result",
          "data": {
            "text/html": [
              "<div>\n",
              "<style scoped>\n",
              "    .dataframe tbody tr th:only-of-type {\n",
              "        vertical-align: middle;\n",
              "    }\n",
              "\n",
              "    .dataframe tbody tr th {\n",
              "        vertical-align: top;\n",
              "    }\n",
              "\n",
              "    .dataframe thead th {\n",
              "        text-align: right;\n",
              "    }\n",
              "</style>\n",
              "<table border=\"1\" class=\"dataframe\">\n",
              "  <thead>\n",
              "    <tr style=\"text-align: right;\">\n",
              "      <th></th>\n",
              "      <th>entry_id</th>\n",
              "      <th>age</th>\n",
              "      <th>pay_schedule</th>\n",
              "      <th>home_owner</th>\n",
              "      <th>income</th>\n",
              "      <th>months_employed</th>\n",
              "      <th>years_employed</th>\n",
              "      <th>current_address_year</th>\n",
              "      <th>personal_account_m</th>\n",
              "      <th>personal_account_y</th>\n",
              "      <th>has_debt</th>\n",
              "      <th>amount_requested</th>\n",
              "      <th>risk_score</th>\n",
              "      <th>risk_score_2</th>\n",
              "      <th>risk_score_3</th>\n",
              "      <th>risk_score_4</th>\n",
              "      <th>risk_score_5</th>\n",
              "      <th>ext_quality_score</th>\n",
              "      <th>ext_quality_score_2</th>\n",
              "      <th>inquiries_last_month</th>\n",
              "      <th>e_signed</th>\n",
              "    </tr>\n",
              "  </thead>\n",
              "  <tbody>\n",
              "    <tr>\n",
              "      <th>0</th>\n",
              "      <td>7629673</td>\n",
              "      <td>40</td>\n",
              "      <td>bi-weekly</td>\n",
              "      <td>1</td>\n",
              "      <td>3135</td>\n",
              "      <td>0</td>\n",
              "      <td>3</td>\n",
              "      <td>3</td>\n",
              "      <td>6</td>\n",
              "      <td>2</td>\n",
              "      <td>1</td>\n",
              "      <td>550</td>\n",
              "      <td>36200</td>\n",
              "      <td>0.737398</td>\n",
              "      <td>0.903517</td>\n",
              "      <td>0.487712</td>\n",
              "      <td>0.515977</td>\n",
              "      <td>0.580918</td>\n",
              "      <td>0.380918</td>\n",
              "      <td>10</td>\n",
              "      <td>1</td>\n",
              "    </tr>\n",
              "    <tr>\n",
              "      <th>1</th>\n",
              "      <td>3560428</td>\n",
              "      <td>61</td>\n",
              "      <td>weekly</td>\n",
              "      <td>0</td>\n",
              "      <td>3180</td>\n",
              "      <td>0</td>\n",
              "      <td>6</td>\n",
              "      <td>3</td>\n",
              "      <td>2</td>\n",
              "      <td>7</td>\n",
              "      <td>1</td>\n",
              "      <td>600</td>\n",
              "      <td>30150</td>\n",
              "      <td>0.738510</td>\n",
              "      <td>0.881027</td>\n",
              "      <td>0.713423</td>\n",
              "      <td>0.826402</td>\n",
              "      <td>0.730720</td>\n",
              "      <td>0.630720</td>\n",
              "      <td>9</td>\n",
              "      <td>0</td>\n",
              "    </tr>\n",
              "    <tr>\n",
              "      <th>2</th>\n",
              "      <td>6934997</td>\n",
              "      <td>23</td>\n",
              "      <td>weekly</td>\n",
              "      <td>0</td>\n",
              "      <td>1540</td>\n",
              "      <td>6</td>\n",
              "      <td>0</td>\n",
              "      <td>0</td>\n",
              "      <td>7</td>\n",
              "      <td>1</td>\n",
              "      <td>1</td>\n",
              "      <td>450</td>\n",
              "      <td>34550</td>\n",
              "      <td>0.642993</td>\n",
              "      <td>0.766554</td>\n",
              "      <td>0.595018</td>\n",
              "      <td>0.762284</td>\n",
              "      <td>0.531712</td>\n",
              "      <td>0.531712</td>\n",
              "      <td>7</td>\n",
              "      <td>0</td>\n",
              "    </tr>\n",
              "    <tr>\n",
              "      <th>3</th>\n",
              "      <td>5682812</td>\n",
              "      <td>40</td>\n",
              "      <td>bi-weekly</td>\n",
              "      <td>0</td>\n",
              "      <td>5230</td>\n",
              "      <td>0</td>\n",
              "      <td>6</td>\n",
              "      <td>1</td>\n",
              "      <td>2</td>\n",
              "      <td>7</td>\n",
              "      <td>1</td>\n",
              "      <td>700</td>\n",
              "      <td>42150</td>\n",
              "      <td>0.665224</td>\n",
              "      <td>0.960832</td>\n",
              "      <td>0.767828</td>\n",
              "      <td>0.778831</td>\n",
              "      <td>0.792552</td>\n",
              "      <td>0.592552</td>\n",
              "      <td>8</td>\n",
              "      <td>1</td>\n",
              "    </tr>\n",
              "    <tr>\n",
              "      <th>4</th>\n",
              "      <td>5335819</td>\n",
              "      <td>33</td>\n",
              "      <td>semi-monthly</td>\n",
              "      <td>0</td>\n",
              "      <td>3590</td>\n",
              "      <td>0</td>\n",
              "      <td>5</td>\n",
              "      <td>2</td>\n",
              "      <td>2</td>\n",
              "      <td>8</td>\n",
              "      <td>1</td>\n",
              "      <td>1100</td>\n",
              "      <td>53850</td>\n",
              "      <td>0.617361</td>\n",
              "      <td>0.857560</td>\n",
              "      <td>0.613487</td>\n",
              "      <td>0.665523</td>\n",
              "      <td>0.744634</td>\n",
              "      <td>0.744634</td>\n",
              "      <td>12</td>\n",
              "      <td>0</td>\n",
              "    </tr>\n",
              "  </tbody>\n",
              "</table>\n",
              "</div>"
            ],
            "text/plain": [
              "   entry_id  age  pay_schedule  home_owner  income  months_employed  \\\n",
              "0   7629673   40     bi-weekly           1    3135                0   \n",
              "1   3560428   61        weekly           0    3180                0   \n",
              "2   6934997   23        weekly           0    1540                6   \n",
              "3   5682812   40     bi-weekly           0    5230                0   \n",
              "4   5335819   33  semi-monthly           0    3590                0   \n",
              "\n",
              "   years_employed  current_address_year  personal_account_m  \\\n",
              "0               3                     3                   6   \n",
              "1               6                     3                   2   \n",
              "2               0                     0                   7   \n",
              "3               6                     1                   2   \n",
              "4               5                     2                   2   \n",
              "\n",
              "   personal_account_y  has_debt  amount_requested  risk_score  risk_score_2  \\\n",
              "0                   2         1               550       36200      0.737398   \n",
              "1                   7         1               600       30150      0.738510   \n",
              "2                   1         1               450       34550      0.642993   \n",
              "3                   7         1               700       42150      0.665224   \n",
              "4                   8         1              1100       53850      0.617361   \n",
              "\n",
              "   risk_score_3  risk_score_4  risk_score_5  ext_quality_score  \\\n",
              "0      0.903517      0.487712      0.515977           0.580918   \n",
              "1      0.881027      0.713423      0.826402           0.730720   \n",
              "2      0.766554      0.595018      0.762284           0.531712   \n",
              "3      0.960832      0.767828      0.778831           0.792552   \n",
              "4      0.857560      0.613487      0.665523           0.744634   \n",
              "\n",
              "   ext_quality_score_2  inquiries_last_month  e_signed  \n",
              "0             0.380918                    10         1  \n",
              "1             0.630720                     9         0  \n",
              "2             0.531712                     7         0  \n",
              "3             0.592552                     8         1  \n",
              "4             0.744634                    12         0  "
            ]
          },
          "metadata": {
            "tags": []
          },
          "execution_count": 3
        }
      ]
    },
    {
      "metadata": {
        "id": "PefJtdI4a5sf",
        "colab_type": "code",
        "colab": {
          "base_uri": "https://localhost:8080/",
          "height": 136
        },
        "outputId": "87ae02e7-9868-4427-f6a8-ed3abb0c4955"
      },
      "cell_type": "code",
      "source": [
        "dataset.columns"
      ],
      "execution_count": 4,
      "outputs": [
        {
          "output_type": "execute_result",
          "data": {
            "text/plain": [
              "Index(['entry_id', 'age', 'pay_schedule', 'home_owner', 'income',\n",
              "       'months_employed', 'years_employed', 'current_address_year',\n",
              "       'personal_account_m', 'personal_account_y', 'has_debt',\n",
              "       'amount_requested', 'risk_score', 'risk_score_2', 'risk_score_3',\n",
              "       'risk_score_4', 'risk_score_5', 'ext_quality_score',\n",
              "       'ext_quality_score_2', 'inquiries_last_month', 'e_signed'],\n",
              "      dtype='object')"
            ]
          },
          "metadata": {
            "tags": []
          },
          "execution_count": 4
        }
      ]
    },
    {
      "metadata": {
        "id": "nO9cE7C5a5so",
        "colab_type": "code",
        "colab": {
          "base_uri": "https://localhost:8080/",
          "height": 317
        },
        "outputId": "3389b43d-e011-4b19-f0ea-858b4aefc891"
      },
      "cell_type": "code",
      "source": [
        "dataset.describe()"
      ],
      "execution_count": 5,
      "outputs": [
        {
          "output_type": "execute_result",
          "data": {
            "text/html": [
              "<div>\n",
              "<style scoped>\n",
              "    .dataframe tbody tr th:only-of-type {\n",
              "        vertical-align: middle;\n",
              "    }\n",
              "\n",
              "    .dataframe tbody tr th {\n",
              "        vertical-align: top;\n",
              "    }\n",
              "\n",
              "    .dataframe thead th {\n",
              "        text-align: right;\n",
              "    }\n",
              "</style>\n",
              "<table border=\"1\" class=\"dataframe\">\n",
              "  <thead>\n",
              "    <tr style=\"text-align: right;\">\n",
              "      <th></th>\n",
              "      <th>entry_id</th>\n",
              "      <th>age</th>\n",
              "      <th>home_owner</th>\n",
              "      <th>income</th>\n",
              "      <th>months_employed</th>\n",
              "      <th>years_employed</th>\n",
              "      <th>current_address_year</th>\n",
              "      <th>personal_account_m</th>\n",
              "      <th>personal_account_y</th>\n",
              "      <th>has_debt</th>\n",
              "      <th>amount_requested</th>\n",
              "      <th>risk_score</th>\n",
              "      <th>risk_score_2</th>\n",
              "      <th>risk_score_3</th>\n",
              "      <th>risk_score_4</th>\n",
              "      <th>risk_score_5</th>\n",
              "      <th>ext_quality_score</th>\n",
              "      <th>ext_quality_score_2</th>\n",
              "      <th>inquiries_last_month</th>\n",
              "      <th>e_signed</th>\n",
              "    </tr>\n",
              "  </thead>\n",
              "  <tbody>\n",
              "    <tr>\n",
              "      <th>count</th>\n",
              "      <td>1.790800e+04</td>\n",
              "      <td>17908.000000</td>\n",
              "      <td>17908.000000</td>\n",
              "      <td>17908.000000</td>\n",
              "      <td>17908.000000</td>\n",
              "      <td>17908.000000</td>\n",
              "      <td>17908.000000</td>\n",
              "      <td>17908.000000</td>\n",
              "      <td>17908.000000</td>\n",
              "      <td>17908.000000</td>\n",
              "      <td>17908.000000</td>\n",
              "      <td>17908.000000</td>\n",
              "      <td>17908.000000</td>\n",
              "      <td>17908.000000</td>\n",
              "      <td>17908.000000</td>\n",
              "      <td>17908.000000</td>\n",
              "      <td>17908.000000</td>\n",
              "      <td>17908.000000</td>\n",
              "      <td>17908.000000</td>\n",
              "      <td>17908.000000</td>\n",
              "    </tr>\n",
              "    <tr>\n",
              "      <th>mean</th>\n",
              "      <td>5.596978e+06</td>\n",
              "      <td>43.015412</td>\n",
              "      <td>0.425173</td>\n",
              "      <td>3657.214653</td>\n",
              "      <td>1.186006</td>\n",
              "      <td>3.526860</td>\n",
              "      <td>3.584711</td>\n",
              "      <td>3.427183</td>\n",
              "      <td>3.503350</td>\n",
              "      <td>0.795399</td>\n",
              "      <td>950.446449</td>\n",
              "      <td>61086.302211</td>\n",
              "      <td>0.690878</td>\n",
              "      <td>0.878276</td>\n",
              "      <td>0.583155</td>\n",
              "      <td>0.718252</td>\n",
              "      <td>0.623112</td>\n",
              "      <td>0.622068</td>\n",
              "      <td>6.457226</td>\n",
              "      <td>0.538251</td>\n",
              "    </tr>\n",
              "    <tr>\n",
              "      <th>std</th>\n",
              "      <td>2.562473e+06</td>\n",
              "      <td>11.873107</td>\n",
              "      <td>0.494383</td>\n",
              "      <td>1504.890063</td>\n",
              "      <td>2.400897</td>\n",
              "      <td>2.259732</td>\n",
              "      <td>2.751937</td>\n",
              "      <td>2.216440</td>\n",
              "      <td>1.955568</td>\n",
              "      <td>0.403421</td>\n",
              "      <td>698.543683</td>\n",
              "      <td>15394.255020</td>\n",
              "      <td>0.090470</td>\n",
              "      <td>0.054563</td>\n",
              "      <td>0.125061</td>\n",
              "      <td>0.120697</td>\n",
              "      <td>0.139729</td>\n",
              "      <td>0.139898</td>\n",
              "      <td>3.673093</td>\n",
              "      <td>0.498549</td>\n",
              "    </tr>\n",
              "    <tr>\n",
              "      <th>min</th>\n",
              "      <td>1.111398e+06</td>\n",
              "      <td>18.000000</td>\n",
              "      <td>0.000000</td>\n",
              "      <td>905.000000</td>\n",
              "      <td>0.000000</td>\n",
              "      <td>0.000000</td>\n",
              "      <td>0.000000</td>\n",
              "      <td>0.000000</td>\n",
              "      <td>0.000000</td>\n",
              "      <td>0.000000</td>\n",
              "      <td>350.000000</td>\n",
              "      <td>2100.000000</td>\n",
              "      <td>0.023258</td>\n",
              "      <td>0.451371</td>\n",
              "      <td>0.016724</td>\n",
              "      <td>0.153367</td>\n",
              "      <td>0.010184</td>\n",
              "      <td>0.006622</td>\n",
              "      <td>1.000000</td>\n",
              "      <td>0.000000</td>\n",
              "    </tr>\n",
              "    <tr>\n",
              "      <th>25%</th>\n",
              "      <td>3.378999e+06</td>\n",
              "      <td>34.000000</td>\n",
              "      <td>0.000000</td>\n",
              "      <td>2580.000000</td>\n",
              "      <td>0.000000</td>\n",
              "      <td>2.000000</td>\n",
              "      <td>2.000000</td>\n",
              "      <td>2.000000</td>\n",
              "      <td>2.000000</td>\n",
              "      <td>1.000000</td>\n",
              "      <td>600.000000</td>\n",
              "      <td>49350.000000</td>\n",
              "      <td>0.640993</td>\n",
              "      <td>0.850882</td>\n",
              "      <td>0.500208</td>\n",
              "      <td>0.633708</td>\n",
              "      <td>0.521735</td>\n",
              "      <td>0.519677</td>\n",
              "      <td>4.000000</td>\n",
              "      <td>0.000000</td>\n",
              "    </tr>\n",
              "    <tr>\n",
              "      <th>50%</th>\n",
              "      <td>5.608376e+06</td>\n",
              "      <td>42.000000</td>\n",
              "      <td>0.000000</td>\n",
              "      <td>3260.000000</td>\n",
              "      <td>0.000000</td>\n",
              "      <td>3.000000</td>\n",
              "      <td>3.000000</td>\n",
              "      <td>2.000000</td>\n",
              "      <td>3.000000</td>\n",
              "      <td>1.000000</td>\n",
              "      <td>700.000000</td>\n",
              "      <td>61200.000000</td>\n",
              "      <td>0.699561</td>\n",
              "      <td>0.881004</td>\n",
              "      <td>0.588208</td>\n",
              "      <td>0.725113</td>\n",
              "      <td>0.625944</td>\n",
              "      <td>0.622974</td>\n",
              "      <td>6.000000</td>\n",
              "      <td>1.000000</td>\n",
              "    </tr>\n",
              "    <tr>\n",
              "      <th>75%</th>\n",
              "      <td>7.805624e+06</td>\n",
              "      <td>51.000000</td>\n",
              "      <td>1.000000</td>\n",
              "      <td>4670.000000</td>\n",
              "      <td>1.000000</td>\n",
              "      <td>5.000000</td>\n",
              "      <td>5.000000</td>\n",
              "      <td>5.000000</td>\n",
              "      <td>4.000000</td>\n",
              "      <td>1.000000</td>\n",
              "      <td>1100.000000</td>\n",
              "      <td>72750.000000</td>\n",
              "      <td>0.752887</td>\n",
              "      <td>0.912608</td>\n",
              "      <td>0.672395</td>\n",
              "      <td>0.806681</td>\n",
              "      <td>0.729841</td>\n",
              "      <td>0.728940</td>\n",
              "      <td>8.000000</td>\n",
              "      <td>1.000000</td>\n",
              "    </tr>\n",
              "    <tr>\n",
              "      <th>max</th>\n",
              "      <td>9.999874e+06</td>\n",
              "      <td>96.000000</td>\n",
              "      <td>1.000000</td>\n",
              "      <td>9985.000000</td>\n",
              "      <td>11.000000</td>\n",
              "      <td>16.000000</td>\n",
              "      <td>12.000000</td>\n",
              "      <td>11.000000</td>\n",
              "      <td>15.000000</td>\n",
              "      <td>1.000000</td>\n",
              "      <td>10200.000000</td>\n",
              "      <td>99750.000000</td>\n",
              "      <td>0.999997</td>\n",
              "      <td>0.999024</td>\n",
              "      <td>0.978932</td>\n",
              "      <td>0.996260</td>\n",
              "      <td>0.970249</td>\n",
              "      <td>0.966953</td>\n",
              "      <td>30.000000</td>\n",
              "      <td>1.000000</td>\n",
              "    </tr>\n",
              "  </tbody>\n",
              "</table>\n",
              "</div>"
            ],
            "text/plain": [
              "           entry_id           age    home_owner        income  \\\n",
              "count  1.790800e+04  17908.000000  17908.000000  17908.000000   \n",
              "mean   5.596978e+06     43.015412      0.425173   3657.214653   \n",
              "std    2.562473e+06     11.873107      0.494383   1504.890063   \n",
              "min    1.111398e+06     18.000000      0.000000    905.000000   \n",
              "25%    3.378999e+06     34.000000      0.000000   2580.000000   \n",
              "50%    5.608376e+06     42.000000      0.000000   3260.000000   \n",
              "75%    7.805624e+06     51.000000      1.000000   4670.000000   \n",
              "max    9.999874e+06     96.000000      1.000000   9985.000000   \n",
              "\n",
              "       months_employed  years_employed  current_address_year  \\\n",
              "count     17908.000000    17908.000000          17908.000000   \n",
              "mean          1.186006        3.526860              3.584711   \n",
              "std           2.400897        2.259732              2.751937   \n",
              "min           0.000000        0.000000              0.000000   \n",
              "25%           0.000000        2.000000              2.000000   \n",
              "50%           0.000000        3.000000              3.000000   \n",
              "75%           1.000000        5.000000              5.000000   \n",
              "max          11.000000       16.000000             12.000000   \n",
              "\n",
              "       personal_account_m  personal_account_y      has_debt  amount_requested  \\\n",
              "count        17908.000000        17908.000000  17908.000000      17908.000000   \n",
              "mean             3.427183            3.503350      0.795399        950.446449   \n",
              "std              2.216440            1.955568      0.403421        698.543683   \n",
              "min              0.000000            0.000000      0.000000        350.000000   \n",
              "25%              2.000000            2.000000      1.000000        600.000000   \n",
              "50%              2.000000            3.000000      1.000000        700.000000   \n",
              "75%              5.000000            4.000000      1.000000       1100.000000   \n",
              "max             11.000000           15.000000      1.000000      10200.000000   \n",
              "\n",
              "         risk_score  risk_score_2  risk_score_3  risk_score_4  risk_score_5  \\\n",
              "count  17908.000000  17908.000000  17908.000000  17908.000000  17908.000000   \n",
              "mean   61086.302211      0.690878      0.878276      0.583155      0.718252   \n",
              "std    15394.255020      0.090470      0.054563      0.125061      0.120697   \n",
              "min     2100.000000      0.023258      0.451371      0.016724      0.153367   \n",
              "25%    49350.000000      0.640993      0.850882      0.500208      0.633708   \n",
              "50%    61200.000000      0.699561      0.881004      0.588208      0.725113   \n",
              "75%    72750.000000      0.752887      0.912608      0.672395      0.806681   \n",
              "max    99750.000000      0.999997      0.999024      0.978932      0.996260   \n",
              "\n",
              "       ext_quality_score  ext_quality_score_2  inquiries_last_month  \\\n",
              "count       17908.000000         17908.000000          17908.000000   \n",
              "mean            0.623112             0.622068              6.457226   \n",
              "std             0.139729             0.139898              3.673093   \n",
              "min             0.010184             0.006622              1.000000   \n",
              "25%             0.521735             0.519677              4.000000   \n",
              "50%             0.625944             0.622974              6.000000   \n",
              "75%             0.729841             0.728940              8.000000   \n",
              "max             0.970249             0.966953             30.000000   \n",
              "\n",
              "           e_signed  \n",
              "count  17908.000000  \n",
              "mean       0.538251  \n",
              "std        0.498549  \n",
              "min        0.000000  \n",
              "25%        0.000000  \n",
              "50%        1.000000  \n",
              "75%        1.000000  \n",
              "max        1.000000  "
            ]
          },
          "metadata": {
            "tags": []
          },
          "execution_count": 5
        }
      ]
    },
    {
      "metadata": {
        "id": "8X6k9BEPa5sx",
        "colab_type": "text"
      },
      "cell_type": "markdown",
      "source": [
        "## Cleaning Data"
      ]
    },
    {
      "metadata": {
        "id": "4WpTW06Oa5sz",
        "colab_type": "code",
        "colab": {
          "base_uri": "https://localhost:8080/",
          "height": 391
        },
        "outputId": "c059106e-1608-47da-f727-2bb13f6cc1cb"
      },
      "cell_type": "code",
      "source": [
        "# Removing NaN\n",
        "dataset.isna().any()"
      ],
      "execution_count": 6,
      "outputs": [
        {
          "output_type": "execute_result",
          "data": {
            "text/plain": [
              "entry_id                False\n",
              "age                     False\n",
              "pay_schedule            False\n",
              "home_owner              False\n",
              "income                  False\n",
              "months_employed         False\n",
              "years_employed          False\n",
              "current_address_year    False\n",
              "personal_account_m      False\n",
              "personal_account_y      False\n",
              "has_debt                False\n",
              "amount_requested        False\n",
              "risk_score              False\n",
              "risk_score_2            False\n",
              "risk_score_3            False\n",
              "risk_score_4            False\n",
              "risk_score_5            False\n",
              "ext_quality_score       False\n",
              "ext_quality_score_2     False\n",
              "inquiries_last_month    False\n",
              "e_signed                False\n",
              "dtype: bool"
            ]
          },
          "metadata": {
            "tags": []
          },
          "execution_count": 6
        }
      ]
    },
    {
      "metadata": {
        "id": "foct6xT-a5s8",
        "colab_type": "text"
      },
      "cell_type": "markdown",
      "source": [
        "*No Nas*"
      ]
    },
    {
      "metadata": {
        "id": "l2vC2Yv_a5s-",
        "colab_type": "text"
      },
      "cell_type": "markdown",
      "source": [
        "## Plotting Histograms"
      ]
    },
    {
      "metadata": {
        "id": "SpCEs3b_a5tB",
        "colab_type": "code",
        "colab": {}
      },
      "cell_type": "code",
      "source": [
        "dataset2 = dataset.drop(columns = ['entry_id', 'pay_schedule', 'e_signed'])"
      ],
      "execution_count": 0,
      "outputs": []
    },
    {
      "metadata": {
        "id": "wYu7sP6za5tH",
        "colab_type": "code",
        "colab": {
          "base_uri": "https://localhost:8080/",
          "height": 1338
        },
        "outputId": "13257b38-90f8-4e44-f089-11a691ada566"
      },
      "cell_type": "code",
      "source": [
        "sns.set()\n",
        "fig = plt.figure(figsize=(19, 19))\n",
        "plt.suptitle('Histograms of Numerical Columns', fontsize=20)\n",
        "for i in range(dataset2.shape[1]):\n",
        "    plt.subplot(6, 3, i + 1)\n",
        "    f = plt.gca()\n",
        "    f.set_title(dataset2.columns.values[i])\n",
        "\n",
        "    vals = np.size(dataset2.iloc[:, i].unique())\n",
        "    if vals >= 100:\n",
        "        vals = 100\n",
        "    \n",
        "    plt.hist(dataset2.iloc[:, i], bins=vals, color='#3F5D7D')\n",
        "plt.tight_layout(rect=[0, 0.03, 1, 0.95])"
      ],
      "execution_count": 8,
      "outputs": [
        {
          "output_type": "display_data",
          "data": {
            "image/png": "[encoded data removed]",
            "text/plain": [
              "<Figure size 1368x1368 with 18 Axes>"
            ]
          },
          "metadata": {
            "tags": []
          }
        }
      ]
    },
    {
      "metadata": {
        "id": "eaTH9lG7a5tP",
        "colab_type": "text"
      },
      "cell_type": "markdown",
      "source": [
        "## Correlation with Response Variable"
      ]
    },
    {
      "metadata": {
        "id": "rvg0PRIia5tR",
        "colab_type": "code",
        "colab": {
          "base_uri": "https://localhost:8080/",
          "height": 835
        },
        "outputId": "3ae68bab-8f3f-422b-82e1-a7094eaee6a8"
      },
      "cell_type": "code",
      "source": [
        "dataset2.corrwith(dataset.e_signed).plot.bar(\n",
        "        figsize = (19,12), title = \"Correlation with E Signed\", fontsize = 15,\n",
        "        rot = 45, grid = True)"
      ],
      "execution_count": 9,
      "outputs": [
        {
          "output_type": "execute_result",
          "data": {
            "text/plain": [
              "<matplotlib.axes._subplots.AxesSubplot at 0x7f667d234748>"
            ]
          },
          "metadata": {
            "tags": []
          },
          "execution_count": 9
        },
        {
          "output_type": "display_data",
          "data": {
            "image/png": "[encoded data removed]",
            "text/plain": [
              "<Figure size 1368x864 with 1 Axes>"
            ]
          },
          "metadata": {
            "tags": []
          }
        }
      ]
    },
    {
      "metadata": {
        "id": "fYiq6a7ga5ta",
        "colab_type": "text"
      },
      "cell_type": "markdown",
      "source": [
        "## Correlation Matrix"
      ]
    },
    {
      "metadata": {
        "scrolled": false,
        "id": "D5IdBSqRa5tc",
        "colab_type": "code",
        "colab": {
          "base_uri": "https://localhost:8080/",
          "height": 955
        },
        "outputId": "db1e5b68-ee75-4c02-81e4-4d838fce00b0"
      },
      "cell_type": "code",
      "source": [
        "sns.set(style=\"white\")\n",
        "\n",
        "# Compute the correlation matrix\n",
        "corr = dataset2.corr()\n",
        "\n",
        "# Generate a mask for the upper triangle\n",
        "mask = np.zeros_like(corr, dtype=np.bool)\n",
        "mask[np.triu_indices_from(mask)] = True\n",
        "\n",
        "# Set up the matplotlib figure\n",
        "f, ax = plt.subplots(figsize=(18, 15))\n",
        "\n",
        "# Generate a custom diverging colormap\n",
        "cmap = sns.diverging_palette(220, 10, as_cmap=True)\n",
        "\n",
        "# Draw the heatmap with the mask and correct aspect ratio\n",
        "sns.heatmap(corr, mask=mask, cmap=cmap, vmax=.3, center=0,\n",
        "            square=True, linewidths=.5, cbar_kws={\"shrink\": .5})"
      ],
      "execution_count": 10,
      "outputs": [
        {
          "output_type": "execute_result",
          "data": {
            "text/plain": [
              "<matplotlib.axes._subplots.AxesSubplot at 0x7f667a7a9358>"
            ]
          },
          "metadata": {
            "tags": []
          },
          "execution_count": 10
        },
        {
          "output_type": "display_data",
          "data": {
            "image/png": "[encoded data removed]",
            "text/plain": [
              "<Figure size 1296x1080 with 2 Axes>"
            ]
          },
          "metadata": {
            "tags": []
          }
        }
      ]
    },
    {
      "metadata": {
        "id": "aGTR89Tha5tm",
        "colab_type": "code",
        "colab": {}
      },
      "cell_type": "code",
      "source": [
        "df = dataset # Coping the data into df before the model building process"
      ],
      "execution_count": 0,
      "outputs": []
    },
    {
      "metadata": {
        "id": "935McfbMa5tx",
        "colab_type": "text"
      },
      "cell_type": "markdown",
      "source": [
        "# Model Building"
      ]
    },
    {
      "metadata": {
        "id": "YAbyTQACa5tz",
        "colab_type": "code",
        "colab": {}
      },
      "cell_type": "code",
      "source": [
        "random.seed(100) # setting random seed to 100 "
      ],
      "execution_count": 0,
      "outputs": []
    },
    {
      "metadata": {
        "id": "0bBX-Z5Xa5uK",
        "colab_type": "text"
      },
      "cell_type": "markdown",
      "source": [
        "## Data Preprocessing"
      ]
    },
    {
      "metadata": {
        "id": "MFOGvmKfa5uO",
        "colab_type": "text"
      },
      "cell_type": "markdown",
      "source": [
        "### Feature Engineering"
      ]
    },
    {
      "metadata": {
        "id": "NcuGvvOVa5uP",
        "colab_type": "code",
        "colab": {
          "base_uri": "https://localhost:8080/",
          "height": 378
        },
        "outputId": "a39fc645-674f-4e05-a71b-492e8b265fa6"
      },
      "cell_type": "code",
      "source": [
        "sns.distplot(df.months_employed, kde= False)"
      ],
      "execution_count": 13,
      "outputs": [
        {
          "output_type": "execute_result",
          "data": {
            "text/plain": [
              "<matplotlib.axes._subplots.AxesSubplot at 0x7f667a790080>"
            ]
          },
          "metadata": {
            "tags": []
          },
          "execution_count": 13
        },
        {
          "output_type": "display_data",
          "data": {
            "image/png": "[encoded data removed]",
            "text/plain": [
              "<Figure size 576x396 with 1 Axes>"
            ]
          },
          "metadata": {
            "tags": []
          }
        }
      ]
    },
    {
      "metadata": {
        "id": "agnkAFqja5uZ",
        "colab_type": "text"
      },
      "cell_type": "markdown",
      "source": [
        "*if you see at the distribution, the data is most populated at the 0 which i think is misleading, most of people might have not have months other than years for they have been employed. So I will drop it*"
      ]
    },
    {
      "metadata": {
        "id": "aNcdIXY1a5ub",
        "colab_type": "code",
        "colab": {}
      },
      "cell_type": "code",
      "source": [
        "df = df.drop(columns = ['months_employed'])"
      ],
      "execution_count": 0,
      "outputs": []
    },
    {
      "metadata": {
        "id": "oC9u5jRia5ug",
        "colab_type": "text"
      },
      "cell_type": "markdown",
      "source": [
        "*Now lets convert the personal_account_y and personal_account_m into total number of months they have been with the bank.*"
      ]
    },
    {
      "metadata": {
        "id": "eHbI7Oioa5uh",
        "colab_type": "code",
        "colab": {
          "base_uri": "https://localhost:8080/",
          "height": 204
        },
        "outputId": "41145611-53e9-422b-bb13-542c106d388e"
      },
      "cell_type": "code",
      "source": [
        "df['personal_account_months'] = (df.personal_account_m + (df.personal_account_y * 12))\n",
        "df[['personal_account_m', 'personal_account_y', 'personal_account_months']].head()"
      ],
      "execution_count": 15,
      "outputs": [
        {
          "output_type": "execute_result",
          "data": {
            "text/html": [
              "<div>\n",
              "<style scoped>\n",
              "    .dataframe tbody tr th:only-of-type {\n",
              "        vertical-align: middle;\n",
              "    }\n",
              "\n",
              "    .dataframe tbody tr th {\n",
              "        vertical-align: top;\n",
              "    }\n",
              "\n",
              "    .dataframe thead th {\n",
              "        text-align: right;\n",
              "    }\n",
              "</style>\n",
              "<table border=\"1\" class=\"dataframe\">\n",
              "  <thead>\n",
              "    <tr style=\"text-align: right;\">\n",
              "      <th></th>\n",
              "      <th>personal_account_m</th>\n",
              "      <th>personal_account_y</th>\n",
              "      <th>personal_account_months</th>\n",
              "    </tr>\n",
              "  </thead>\n",
              "  <tbody>\n",
              "    <tr>\n",
              "      <th>0</th>\n",
              "      <td>6</td>\n",
              "      <td>2</td>\n",
              "      <td>30</td>\n",
              "    </tr>\n",
              "    <tr>\n",
              "      <th>1</th>\n",
              "      <td>2</td>\n",
              "      <td>7</td>\n",
              "      <td>86</td>\n",
              "    </tr>\n",
              "    <tr>\n",
              "      <th>2</th>\n",
              "      <td>7</td>\n",
              "      <td>1</td>\n",
              "      <td>19</td>\n",
              "    </tr>\n",
              "    <tr>\n",
              "      <th>3</th>\n",
              "      <td>2</td>\n",
              "      <td>7</td>\n",
              "      <td>86</td>\n",
              "    </tr>\n",
              "    <tr>\n",
              "      <th>4</th>\n",
              "      <td>2</td>\n",
              "      <td>8</td>\n",
              "      <td>98</td>\n",
              "    </tr>\n",
              "  </tbody>\n",
              "</table>\n",
              "</div>"
            ],
            "text/plain": [
              "   personal_account_m  personal_account_y  personal_account_months\n",
              "0                   6                   2                       30\n",
              "1                   2                   7                       86\n",
              "2                   7                   1                       19\n",
              "3                   2                   7                       86\n",
              "4                   2                   8                       98"
            ]
          },
          "metadata": {
            "tags": []
          },
          "execution_count": 15
        }
      ]
    },
    {
      "metadata": {
        "id": "smK50_UZa5uo",
        "colab_type": "text"
      },
      "cell_type": "markdown",
      "source": [
        "*Now that we have converted the personal_account_y and personal_account_m and into a single as personal_account_months which represents the total number of months, we can drop the months and year columns*"
      ]
    },
    {
      "metadata": {
        "id": "U-Hkfc1Ma5uq",
        "colab_type": "code",
        "colab": {}
      },
      "cell_type": "code",
      "source": [
        "df = df.drop(columns = ['personal_account_m', 'personal_account_y'])"
      ],
      "execution_count": 0,
      "outputs": []
    },
    {
      "metadata": {
        "id": "i0lIbKdaa5uw",
        "colab_type": "text"
      },
      "cell_type": "markdown",
      "source": [
        "### One Hot Encoding"
      ]
    },
    {
      "metadata": {
        "id": "UWoxhi-Pa5ux",
        "colab_type": "code",
        "colab": {
          "base_uri": "https://localhost:8080/",
          "height": 153
        },
        "outputId": "19bf2d11-cb50-49aa-b456-82ee8fc3ea56"
      },
      "cell_type": "code",
      "source": [
        "df = pd.get_dummies(df)\n",
        "df.columns"
      ],
      "execution_count": 17,
      "outputs": [
        {
          "output_type": "execute_result",
          "data": {
            "text/plain": [
              "Index(['entry_id', 'age', 'home_owner', 'income', 'years_employed',\n",
              "       'current_address_year', 'has_debt', 'amount_requested', 'risk_score',\n",
              "       'risk_score_2', 'risk_score_3', 'risk_score_4', 'risk_score_5',\n",
              "       'ext_quality_score', 'ext_quality_score_2', 'inquiries_last_month',\n",
              "       'e_signed', 'personal_account_months', 'pay_schedule_bi-weekly',\n",
              "       'pay_schedule_monthly', 'pay_schedule_semi-monthly',\n",
              "       'pay_schedule_weekly'],\n",
              "      dtype='object')"
            ]
          },
          "metadata": {
            "tags": []
          },
          "execution_count": 17
        }
      ]
    },
    {
      "metadata": {
        "id": "umWoi-yfa5u4",
        "colab_type": "text"
      },
      "cell_type": "markdown",
      "source": [
        "*To get out of dummy variable trap we need to remove one column from the encoded data *"
      ]
    },
    {
      "metadata": {
        "id": "TWTpsuVoa5u6",
        "colab_type": "code",
        "colab": {}
      },
      "cell_type": "code",
      "source": [
        "df = df.drop(columns = ['pay_schedule_semi-monthly'])"
      ],
      "execution_count": 0,
      "outputs": []
    },
    {
      "metadata": {
        "id": "hW3wqrgha5vF",
        "colab_type": "text"
      },
      "cell_type": "markdown",
      "source": [
        "### Removing extra columns"
      ]
    },
    {
      "metadata": {
        "id": "SSXxRgZOa5vH",
        "colab_type": "code",
        "colab": {}
      },
      "cell_type": "code",
      "source": [
        "response = df[\"e_signed\"]\n",
        "users = df['entry_id']\n",
        "df = df.drop(columns = [\"e_signed\", \"entry_id\"])"
      ],
      "execution_count": 0,
      "outputs": []
    },
    {
      "metadata": {
        "id": "sEeGnvvGa5vP",
        "colab_type": "text"
      },
      "cell_type": "markdown",
      "source": [
        "### Splitting into Train and Test Set"
      ]
    },
    {
      "metadata": {
        "id": "fqueqHUWa5vR",
        "colab_type": "code",
        "colab": {}
      },
      "cell_type": "code",
      "source": [
        "from sklearn.model_selection import train_test_split\n",
        "X_train, X_test, y_train, y_test = train_test_split(df,\n",
        "                                                    response,\n",
        "                                                    test_size = 0.2,\n",
        "                                                    random_state = 0)"
      ],
      "execution_count": 0,
      "outputs": []
    },
    {
      "metadata": {
        "id": "ERs6F8HXa5vX",
        "colab_type": "text"
      },
      "cell_type": "markdown",
      "source": [
        "### Feature Scaling"
      ]
    },
    {
      "metadata": {
        "id": "FVi1bBQLa5vY",
        "colab_type": "code",
        "colab": {}
      },
      "cell_type": "code",
      "source": [
        "from sklearn.preprocessing import StandardScaler\n",
        "sc_X = StandardScaler()\n",
        "X_train2 = pd.DataFrame(sc_X.fit_transform(X_train))\n",
        "X_test2 = pd.DataFrame(sc_X.transform(X_test))\n",
        "X_train2.columns = X_train.columns.values\n",
        "X_test2.columns = X_test.columns.values\n",
        "X_train2.index = X_train.index.values\n",
        "X_test2.index = X_test.index.values\n",
        "X_train = X_train2\n",
        "X_test = X_test2"
      ],
      "execution_count": 0,
      "outputs": []
    },
    {
      "metadata": {
        "id": "s0scxhXVa5vg",
        "colab_type": "code",
        "colab": {
          "base_uri": "https://localhost:8080/",
          "height": 241
        },
        "outputId": "59507aa6-8b6b-4ef2-80f2-58dfa19dd57f"
      },
      "cell_type": "code",
      "source": [
        "X_train.head()"
      ],
      "execution_count": 22,
      "outputs": [
        {
          "output_type": "execute_result",
          "data": {
            "text/html": [
              "<div>\n",
              "<style scoped>\n",
              "    .dataframe tbody tr th:only-of-type {\n",
              "        vertical-align: middle;\n",
              "    }\n",
              "\n",
              "    .dataframe tbody tr th {\n",
              "        vertical-align: top;\n",
              "    }\n",
              "\n",
              "    .dataframe thead th {\n",
              "        text-align: right;\n",
              "    }\n",
              "</style>\n",
              "<table border=\"1\" class=\"dataframe\">\n",
              "  <thead>\n",
              "    <tr style=\"text-align: right;\">\n",
              "      <th></th>\n",
              "      <th>age</th>\n",
              "      <th>home_owner</th>\n",
              "      <th>income</th>\n",
              "      <th>years_employed</th>\n",
              "      <th>current_address_year</th>\n",
              "      <th>has_debt</th>\n",
              "      <th>amount_requested</th>\n",
              "      <th>risk_score</th>\n",
              "      <th>risk_score_2</th>\n",
              "      <th>risk_score_3</th>\n",
              "      <th>risk_score_4</th>\n",
              "      <th>risk_score_5</th>\n",
              "      <th>ext_quality_score</th>\n",
              "      <th>ext_quality_score_2</th>\n",
              "      <th>inquiries_last_month</th>\n",
              "      <th>personal_account_months</th>\n",
              "      <th>pay_schedule_bi-weekly</th>\n",
              "      <th>pay_schedule_monthly</th>\n",
              "      <th>pay_schedule_weekly</th>\n",
              "    </tr>\n",
              "  </thead>\n",
              "  <tbody>\n",
              "    <tr>\n",
              "      <th>5957</th>\n",
              "      <td>-0.005991</td>\n",
              "      <td>-0.856349</td>\n",
              "      <td>-0.242358</td>\n",
              "      <td>-1.567782</td>\n",
              "      <td>-0.573557</td>\n",
              "      <td>0.507058</td>\n",
              "      <td>-0.642580</td>\n",
              "      <td>-1.905162</td>\n",
              "      <td>-1.190501</td>\n",
              "      <td>-0.766112</td>\n",
              "      <td>0.979893</td>\n",
              "      <td>-0.229380</td>\n",
              "      <td>-1.060059</td>\n",
              "      <td>-1.057386</td>\n",
              "      <td>1.784494</td>\n",
              "      <td>0.368965</td>\n",
              "      <td>-1.224638</td>\n",
              "      <td>-0.302360</td>\n",
              "      <td>1.976827</td>\n",
              "    </tr>\n",
              "    <tr>\n",
              "      <th>16854</th>\n",
              "      <td>-0.509890</td>\n",
              "      <td>-0.856349</td>\n",
              "      <td>-0.052592</td>\n",
              "      <td>0.206559</td>\n",
              "      <td>-0.937970</td>\n",
              "      <td>0.507058</td>\n",
              "      <td>-0.785621</td>\n",
              "      <td>-0.749184</td>\n",
              "      <td>1.254553</td>\n",
              "      <td>0.607772</td>\n",
              "      <td>-0.396208</td>\n",
              "      <td>0.823356</td>\n",
              "      <td>0.041801</td>\n",
              "      <td>-0.672086</td>\n",
              "      <td>-0.663369</td>\n",
              "      <td>-0.280906</td>\n",
              "      <td>-1.224638</td>\n",
              "      <td>3.307315</td>\n",
              "      <td>-0.505861</td>\n",
              "    </tr>\n",
              "    <tr>\n",
              "      <th>4429</th>\n",
              "      <td>-0.761840</td>\n",
              "      <td>1.167748</td>\n",
              "      <td>-0.412149</td>\n",
              "      <td>-1.124197</td>\n",
              "      <td>-0.937970</td>\n",
              "      <td>-1.972161</td>\n",
              "      <td>-0.642580</td>\n",
              "      <td>-1.437575</td>\n",
              "      <td>0.532590</td>\n",
              "      <td>-1.485619</td>\n",
              "      <td>-0.086860</td>\n",
              "      <td>-0.775633</td>\n",
              "      <td>0.588358</td>\n",
              "      <td>-0.841550</td>\n",
              "      <td>1.240525</td>\n",
              "      <td>0.195666</td>\n",
              "      <td>0.816568</td>\n",
              "      <td>-0.302360</td>\n",
              "      <td>-0.505861</td>\n",
              "    </tr>\n",
              "    <tr>\n",
              "      <th>13607</th>\n",
              "      <td>1.421722</td>\n",
              "      <td>1.167748</td>\n",
              "      <td>-0.638537</td>\n",
              "      <td>0.650144</td>\n",
              "      <td>2.341745</td>\n",
              "      <td>0.507058</td>\n",
              "      <td>-0.785621</td>\n",
              "      <td>-0.680994</td>\n",
              "      <td>-0.642460</td>\n",
              "      <td>1.696278</td>\n",
              "      <td>-1.252980</td>\n",
              "      <td>-1.027524</td>\n",
              "      <td>1.532749</td>\n",
              "      <td>0.817422</td>\n",
              "      <td>-0.119399</td>\n",
              "      <td>2.361903</td>\n",
              "      <td>0.816568</td>\n",
              "      <td>-0.302360</td>\n",
              "      <td>-0.505861</td>\n",
              "    </tr>\n",
              "    <tr>\n",
              "      <th>3750</th>\n",
              "      <td>-1.601671</td>\n",
              "      <td>-0.856349</td>\n",
              "      <td>-1.041374</td>\n",
              "      <td>1.093729</td>\n",
              "      <td>2.341745</td>\n",
              "      <td>0.507058</td>\n",
              "      <td>-0.499539</td>\n",
              "      <td>0.780214</td>\n",
              "      <td>-0.248764</td>\n",
              "      <td>-0.315136</td>\n",
              "      <td>-0.910402</td>\n",
              "      <td>0.225551</td>\n",
              "      <td>0.108871</td>\n",
              "      <td>1.541402</td>\n",
              "      <td>-0.935353</td>\n",
              "      <td>-0.150932</td>\n",
              "      <td>0.816568</td>\n",
              "      <td>-0.302360</td>\n",
              "      <td>-0.505861</td>\n",
              "    </tr>\n",
              "  </tbody>\n",
              "</table>\n",
              "</div>"
            ],
            "text/plain": [
              "            age  home_owner    income  years_employed  current_address_year  \\\n",
              "5957  -0.005991   -0.856349 -0.242358       -1.567782             -0.573557   \n",
              "16854 -0.509890   -0.856349 -0.052592        0.206559             -0.937970   \n",
              "4429  -0.761840    1.167748 -0.412149       -1.124197             -0.937970   \n",
              "13607  1.421722    1.167748 -0.638537        0.650144              2.341745   \n",
              "3750  -1.601671   -0.856349 -1.041374        1.093729              2.341745   \n",
              "\n",
              "       has_debt  amount_requested  risk_score  risk_score_2  risk_score_3  \\\n",
              "5957   0.507058         -0.642580   -1.905162     -1.190501     -0.766112   \n",
              "16854  0.507058         -0.785621   -0.749184      1.254553      0.607772   \n",
              "4429  -1.972161         -0.642580   -1.437575      0.532590     -1.485619   \n",
              "13607  0.507058         -0.785621   -0.680994     -0.642460      1.696278   \n",
              "3750   0.507058         -0.499539    0.780214     -0.248764     -0.315136   \n",
              "\n",
              "       risk_score_4  risk_score_5  ext_quality_score  ext_quality_score_2  \\\n",
              "5957       0.979893     -0.229380          -1.060059            -1.057386   \n",
              "16854     -0.396208      0.823356           0.041801            -0.672086   \n",
              "4429      -0.086860     -0.775633           0.588358            -0.841550   \n",
              "13607     -1.252980     -1.027524           1.532749             0.817422   \n",
              "3750      -0.910402      0.225551           0.108871             1.541402   \n",
              "\n",
              "       inquiries_last_month  personal_account_months  pay_schedule_bi-weekly  \\\n",
              "5957               1.784494                 0.368965               -1.224638   \n",
              "16854             -0.663369                -0.280906               -1.224638   \n",
              "4429               1.240525                 0.195666                0.816568   \n",
              "13607             -0.119399                 2.361903                0.816568   \n",
              "3750              -0.935353                -0.150932                0.816568   \n",
              "\n",
              "       pay_schedule_monthly  pay_schedule_weekly  \n",
              "5957              -0.302360             1.976827  \n",
              "16854              3.307315            -0.505861  \n",
              "4429              -0.302360            -0.505861  \n",
              "13607             -0.302360            -0.505861  \n",
              "3750              -0.302360            -0.505861  "
            ]
          },
          "metadata": {
            "tags": []
          },
          "execution_count": 22
        }
      ]
    },
    {
      "metadata": {
        "id": "VK9Q2sjPa5vo",
        "colab_type": "code",
        "colab": {
          "base_uri": "https://localhost:8080/",
          "height": 241
        },
        "outputId": "0c0c0454-1981-4db1-bc39-88d35d5e337a"
      },
      "cell_type": "code",
      "source": [
        "X_test.head()"
      ],
      "execution_count": 23,
      "outputs": [
        {
          "output_type": "execute_result",
          "data": {
            "text/html": [
              "<div>\n",
              "<style scoped>\n",
              "    .dataframe tbody tr th:only-of-type {\n",
              "        vertical-align: middle;\n",
              "    }\n",
              "\n",
              "    .dataframe tbody tr th {\n",
              "        vertical-align: top;\n",
              "    }\n",
              "\n",
              "    .dataframe thead th {\n",
              "        text-align: right;\n",
              "    }\n",
              "</style>\n",
              "<table border=\"1\" class=\"dataframe\">\n",
              "  <thead>\n",
              "    <tr style=\"text-align: right;\">\n",
              "      <th></th>\n",
              "      <th>age</th>\n",
              "      <th>home_owner</th>\n",
              "      <th>income</th>\n",
              "      <th>years_employed</th>\n",
              "      <th>current_address_year</th>\n",
              "      <th>has_debt</th>\n",
              "      <th>amount_requested</th>\n",
              "      <th>risk_score</th>\n",
              "      <th>risk_score_2</th>\n",
              "      <th>risk_score_3</th>\n",
              "      <th>risk_score_4</th>\n",
              "      <th>risk_score_5</th>\n",
              "      <th>ext_quality_score</th>\n",
              "      <th>ext_quality_score_2</th>\n",
              "      <th>inquiries_last_month</th>\n",
              "      <th>personal_account_months</th>\n",
              "      <th>pay_schedule_bi-weekly</th>\n",
              "      <th>pay_schedule_monthly</th>\n",
              "      <th>pay_schedule_weekly</th>\n",
              "    </tr>\n",
              "  </thead>\n",
              "  <tbody>\n",
              "    <tr>\n",
              "      <th>3629</th>\n",
              "      <td>-1.013789</td>\n",
              "      <td>-0.856349</td>\n",
              "      <td>-0.242358</td>\n",
              "      <td>-1.124197</td>\n",
              "      <td>-1.302383</td>\n",
              "      <td>0.507058</td>\n",
              "      <td>0.358706</td>\n",
              "      <td>-0.944012</td>\n",
              "      <td>0.548408</td>\n",
              "      <td>-1.076350</td>\n",
              "      <td>0.059153</td>\n",
              "      <td>0.326152</td>\n",
              "      <td>0.314517</td>\n",
              "      <td>-0.399633</td>\n",
              "      <td>0.696555</td>\n",
              "      <td>-0.324231</td>\n",
              "      <td>-1.224638</td>\n",
              "      <td>-0.30236</td>\n",
              "      <td>-0.505861</td>\n",
              "    </tr>\n",
              "    <tr>\n",
              "      <th>1820</th>\n",
              "      <td>-1.013789</td>\n",
              "      <td>-0.856349</td>\n",
              "      <td>-0.335577</td>\n",
              "      <td>-0.237027</td>\n",
              "      <td>-1.302383</td>\n",
              "      <td>-1.972161</td>\n",
              "      <td>-0.213457</td>\n",
              "      <td>0.767226</td>\n",
              "      <td>-0.024644</td>\n",
              "      <td>-0.047016</td>\n",
              "      <td>-0.029979</td>\n",
              "      <td>0.641494</td>\n",
              "      <td>-0.781613</td>\n",
              "      <td>-0.063715</td>\n",
              "      <td>-1.207338</td>\n",
              "      <td>0.195666</td>\n",
              "      <td>0.816568</td>\n",
              "      <td>-0.30236</td>\n",
              "      <td>-0.505861</td>\n",
              "    </tr>\n",
              "    <tr>\n",
              "      <th>6685</th>\n",
              "      <td>0.245958</td>\n",
              "      <td>-0.856349</td>\n",
              "      <td>-0.598586</td>\n",
              "      <td>2.868070</td>\n",
              "      <td>0.884094</td>\n",
              "      <td>0.507058</td>\n",
              "      <td>0.215665</td>\n",
              "      <td>0.757484</td>\n",
              "      <td>-1.051686</td>\n",
              "      <td>-0.521003</td>\n",
              "      <td>-1.033452</td>\n",
              "      <td>-1.293930</td>\n",
              "      <td>-0.505566</td>\n",
              "      <td>-0.503429</td>\n",
              "      <td>-0.391384</td>\n",
              "      <td>-0.844128</td>\n",
              "      <td>-1.224638</td>\n",
              "      <td>-0.30236</td>\n",
              "      <td>-0.505861</td>\n",
              "    </tr>\n",
              "    <tr>\n",
              "      <th>17241</th>\n",
              "      <td>0.329941</td>\n",
              "      <td>-0.856349</td>\n",
              "      <td>0.237051</td>\n",
              "      <td>-0.237027</td>\n",
              "      <td>2.341745</td>\n",
              "      <td>0.507058</td>\n",
              "      <td>2.718881</td>\n",
              "      <td>1.264037</td>\n",
              "      <td>-0.268713</td>\n",
              "      <td>-0.313492</td>\n",
              "      <td>-0.381701</td>\n",
              "      <td>1.167423</td>\n",
              "      <td>-0.616575</td>\n",
              "      <td>0.816657</td>\n",
              "      <td>-0.119399</td>\n",
              "      <td>2.361903</td>\n",
              "      <td>-1.224638</td>\n",
              "      <td>-0.30236</td>\n",
              "      <td>1.976827</td>\n",
              "    </tr>\n",
              "    <tr>\n",
              "      <th>8332</th>\n",
              "      <td>-0.509890</td>\n",
              "      <td>1.167748</td>\n",
              "      <td>3.357207</td>\n",
              "      <td>-0.237027</td>\n",
              "      <td>-0.937970</td>\n",
              "      <td>0.507058</td>\n",
              "      <td>2.790402</td>\n",
              "      <td>1.189353</td>\n",
              "      <td>-0.224014</td>\n",
              "      <td>1.102305</td>\n",
              "      <td>0.237540</td>\n",
              "      <td>0.350924</td>\n",
              "      <td>1.006524</td>\n",
              "      <td>1.007200</td>\n",
              "      <td>-0.663369</td>\n",
              "      <td>-1.364025</td>\n",
              "      <td>-1.224638</td>\n",
              "      <td>-0.30236</td>\n",
              "      <td>-0.505861</td>\n",
              "    </tr>\n",
              "  </tbody>\n",
              "</table>\n",
              "</div>"
            ],
            "text/plain": [
              "            age  home_owner    income  years_employed  current_address_year  \\\n",
              "3629  -1.013789   -0.856349 -0.242358       -1.124197             -1.302383   \n",
              "1820  -1.013789   -0.856349 -0.335577       -0.237027             -1.302383   \n",
              "6685   0.245958   -0.856349 -0.598586        2.868070              0.884094   \n",
              "17241  0.329941   -0.856349  0.237051       -0.237027              2.341745   \n",
              "8332  -0.509890    1.167748  3.357207       -0.237027             -0.937970   \n",
              "\n",
              "       has_debt  amount_requested  risk_score  risk_score_2  risk_score_3  \\\n",
              "3629   0.507058          0.358706   -0.944012      0.548408     -1.076350   \n",
              "1820  -1.972161         -0.213457    0.767226     -0.024644     -0.047016   \n",
              "6685   0.507058          0.215665    0.757484     -1.051686     -0.521003   \n",
              "17241  0.507058          2.718881    1.264037     -0.268713     -0.313492   \n",
              "8332   0.507058          2.790402    1.189353     -0.224014      1.102305   \n",
              "\n",
              "       risk_score_4  risk_score_5  ext_quality_score  ext_quality_score_2  \\\n",
              "3629       0.059153      0.326152           0.314517            -0.399633   \n",
              "1820      -0.029979      0.641494          -0.781613            -0.063715   \n",
              "6685      -1.033452     -1.293930          -0.505566            -0.503429   \n",
              "17241     -0.381701      1.167423          -0.616575             0.816657   \n",
              "8332       0.237540      0.350924           1.006524             1.007200   \n",
              "\n",
              "       inquiries_last_month  personal_account_months  pay_schedule_bi-weekly  \\\n",
              "3629               0.696555                -0.324231               -1.224638   \n",
              "1820              -1.207338                 0.195666                0.816568   \n",
              "6685              -0.391384                -0.844128               -1.224638   \n",
              "17241             -0.119399                 2.361903               -1.224638   \n",
              "8332              -0.663369                -1.364025               -1.224638   \n",
              "\n",
              "       pay_schedule_monthly  pay_schedule_weekly  \n",
              "3629               -0.30236            -0.505861  \n",
              "1820               -0.30236            -0.505861  \n",
              "6685               -0.30236            -0.505861  \n",
              "17241              -0.30236             1.976827  \n",
              "8332               -0.30236            -0.505861  "
            ]
          },
          "metadata": {
            "tags": []
          },
          "execution_count": 23
        }
      ]
    },
    {
      "metadata": {
        "id": "NdRR_TaGa5v1",
        "colab_type": "text"
      },
      "cell_type": "markdown",
      "source": [
        "## Comparing Models"
      ]
    },
    {
      "metadata": {
        "id": "ceVNiFWva5v2",
        "colab_type": "text"
      },
      "cell_type": "markdown",
      "source": [
        "### Logistic Regression"
      ]
    },
    {
      "metadata": {
        "id": "XAoUCyhwa5v5",
        "colab_type": "code",
        "colab": {
          "base_uri": "https://localhost:8080/",
          "height": 85
        },
        "outputId": "7772f8e2-544a-40c4-d74c-fe6295f499c3"
      },
      "cell_type": "code",
      "source": [
        "from sklearn.linear_model import LogisticRegression\n",
        "classifier = LogisticRegression(random_state = 0, penalty = 'l1')\n",
        "classifier.fit(X_train, y_train)"
      ],
      "execution_count": 24,
      "outputs": [
        {
          "output_type": "execute_result",
          "data": {
            "text/plain": [
              "LogisticRegression(C=1.0, class_weight=None, dual=False, fit_intercept=True,\n",
              "          intercept_scaling=1, max_iter=100, multi_class='warn',\n",
              "          n_jobs=None, penalty='l1', random_state=0, solver='warn',\n",
              "          tol=0.0001, verbose=0, warm_start=False)"
            ]
          },
          "metadata": {
            "tags": []
          },
          "execution_count": 24
        }
      ]
    },
    {
      "metadata": {
        "id": "pLBHVa4ha5wE",
        "colab_type": "text"
      },
      "cell_type": "markdown",
      "source": [
        "### Predicting Test Set"
      ]
    },
    {
      "metadata": {
        "id": "L1MYyc7Sa5wG",
        "colab_type": "code",
        "colab": {}
      },
      "cell_type": "code",
      "source": [
        "y_pred = classifier.predict(X_test)"
      ],
      "execution_count": 0,
      "outputs": []
    },
    {
      "metadata": {
        "id": "VS-IbOK2a5wL",
        "colab_type": "text"
      },
      "cell_type": "markdown",
      "source": [
        "### Evaluating the test set results"
      ]
    },
    {
      "metadata": {
        "id": "zB4WVZaYa5wM",
        "colab_type": "code",
        "colab": {}
      },
      "cell_type": "code",
      "source": [
        "from sklearn.metrics import confusion_matrix, accuracy_score, f1_score, precision_score, recall_score\n",
        "acc = accuracy_score(y_test, y_pred)\n",
        "prec = precision_score(y_test, y_pred)\n",
        "rec = recall_score(y_test, y_pred)\n",
        "f1 = f1_score(y_test, y_pred)"
      ],
      "execution_count": 0,
      "outputs": []
    },
    {
      "metadata": {
        "id": "5cNT8qAsa5wR",
        "colab_type": "code",
        "colab": {}
      },
      "cell_type": "code",
      "source": [
        "results = pd.DataFrame([['Linear Regression (Lasso)', acc, prec, rec, f1]],\n",
        "               columns = ['Model', 'Accuracy', 'Precision', 'Recall', 'F1 Score'])"
      ],
      "execution_count": 0,
      "outputs": []
    },
    {
      "metadata": {
        "id": "oFjx5vZha5wW",
        "colab_type": "code",
        "colab": {
          "base_uri": "https://localhost:8080/",
          "height": 80
        },
        "outputId": "59c4b867-149f-4e61-caca-3ccde34567ca"
      },
      "cell_type": "code",
      "source": [
        "results"
      ],
      "execution_count": 28,
      "outputs": [
        {
          "output_type": "execute_result",
          "data": {
            "text/html": [
              "<div>\n",
              "<style scoped>\n",
              "    .dataframe tbody tr th:only-of-type {\n",
              "        vertical-align: middle;\n",
              "    }\n",
              "\n",
              "    .dataframe tbody tr th {\n",
              "        vertical-align: top;\n",
              "    }\n",
              "\n",
              "    .dataframe thead th {\n",
              "        text-align: right;\n",
              "    }\n",
              "</style>\n",
              "<table border=\"1\" class=\"dataframe\">\n",
              "  <thead>\n",
              "    <tr style=\"text-align: right;\">\n",
              "      <th></th>\n",
              "      <th>Model</th>\n",
              "      <th>Accuracy</th>\n",
              "      <th>Precision</th>\n",
              "      <th>Recall</th>\n",
              "      <th>F1 Score</th>\n",
              "    </tr>\n",
              "  </thead>\n",
              "  <tbody>\n",
              "    <tr>\n",
              "      <th>0</th>\n",
              "      <td>Linear Regression (Lasso)</td>\n",
              "      <td>0.561977</td>\n",
              "      <td>0.575963</td>\n",
              "      <td>0.705913</td>\n",
              "      <td>0.634351</td>\n",
              "    </tr>\n",
              "  </tbody>\n",
              "</table>\n",
              "</div>"
            ],
            "text/plain": [
              "                       Model  Accuracy  Precision    Recall  F1 Score\n",
              "0  Linear Regression (Lasso)  0.561977   0.575963  0.705913  0.634351"
            ]
          },
          "metadata": {
            "tags": []
          },
          "execution_count": 28
        }
      ]
    },
    {
      "metadata": {
        "id": "Gnh5soXVa5wl",
        "colab_type": "text"
      },
      "cell_type": "markdown",
      "source": [
        "### SVM (Linear)"
      ]
    },
    {
      "metadata": {
        "scrolled": true,
        "id": "uMKD65Vxa5wm",
        "colab_type": "code",
        "colab": {
          "base_uri": "https://localhost:8080/",
          "height": 85
        },
        "outputId": "2e42bdb6-d700-4d57-d154-46de450f7949"
      },
      "cell_type": "code",
      "source": [
        "from sklearn.svm import SVC\n",
        "classifier = SVC(random_state = 0, kernel = 'linear')\n",
        "classifier.fit(X_train, y_train)"
      ],
      "execution_count": 29,
      "outputs": [
        {
          "output_type": "execute_result",
          "data": {
            "text/plain": [
              "SVC(C=1.0, cache_size=200, class_weight=None, coef0=0.0,\n",
              "  decision_function_shape='ovr', degree=3, gamma='auto_deprecated',\n",
              "  kernel='linear', max_iter=-1, probability=False, random_state=0,\n",
              "  shrinking=True, tol=0.001, verbose=False)"
            ]
          },
          "metadata": {
            "tags": []
          },
          "execution_count": 29
        }
      ]
    },
    {
      "metadata": {
        "id": "3hpGsoH0a5wv",
        "colab_type": "text"
      },
      "cell_type": "markdown",
      "source": [
        "### Predicting Test Set"
      ]
    },
    {
      "metadata": {
        "id": "brCKvZwea5wx",
        "colab_type": "code",
        "colab": {}
      },
      "cell_type": "code",
      "source": [
        "y_pred = classifier.predict(X_test)"
      ],
      "execution_count": 0,
      "outputs": []
    },
    {
      "metadata": {
        "id": "9ZoP0vMYa5w3",
        "colab_type": "text"
      },
      "cell_type": "markdown",
      "source": [
        "### Evaluating the test set results"
      ]
    },
    {
      "metadata": {
        "id": "enGV3jG4a5w5",
        "colab_type": "code",
        "colab": {}
      },
      "cell_type": "code",
      "source": [
        "acc = accuracy_score(y_test, y_pred)\n",
        "prec = precision_score(y_test, y_pred)\n",
        "rec = recall_score(y_test, y_pred)\n",
        "f1 = f1_score(y_test, y_pred)"
      ],
      "execution_count": 0,
      "outputs": []
    },
    {
      "metadata": {
        "id": "m60fRaC0a5w9",
        "colab_type": "code",
        "colab": {}
      },
      "cell_type": "code",
      "source": [
        "model_results = pd.DataFrame([['SVM (Linear)', acc, prec, rec, f1]],\n",
        "               columns = ['Model', 'Accuracy', 'Precision', 'Recall', 'F1 Score'])"
      ],
      "execution_count": 0,
      "outputs": []
    },
    {
      "metadata": {
        "id": "Tj7W_d5Sa5xB",
        "colab_type": "code",
        "colab": {}
      },
      "cell_type": "code",
      "source": [
        "results = results.append(model_results, ignore_index = True)"
      ],
      "execution_count": 0,
      "outputs": []
    },
    {
      "metadata": {
        "id": "VsnRoRkua5xG",
        "colab_type": "code",
        "colab": {
          "base_uri": "https://localhost:8080/",
          "height": 111
        },
        "outputId": "61ae84b4-3d88-46e5-9201-b454d122309b"
      },
      "cell_type": "code",
      "source": [
        "results"
      ],
      "execution_count": 34,
      "outputs": [
        {
          "output_type": "execute_result",
          "data": {
            "text/html": [
              "<div>\n",
              "<style scoped>\n",
              "    .dataframe tbody tr th:only-of-type {\n",
              "        vertical-align: middle;\n",
              "    }\n",
              "\n",
              "    .dataframe tbody tr th {\n",
              "        vertical-align: top;\n",
              "    }\n",
              "\n",
              "    .dataframe thead th {\n",
              "        text-align: right;\n",
              "    }\n",
              "</style>\n",
              "<table border=\"1\" class=\"dataframe\">\n",
              "  <thead>\n",
              "    <tr style=\"text-align: right;\">\n",
              "      <th></th>\n",
              "      <th>Model</th>\n",
              "      <th>Accuracy</th>\n",
              "      <th>Precision</th>\n",
              "      <th>Recall</th>\n",
              "      <th>F1 Score</th>\n",
              "    </tr>\n",
              "  </thead>\n",
              "  <tbody>\n",
              "    <tr>\n",
              "      <th>0</th>\n",
              "      <td>Linear Regression (Lasso)</td>\n",
              "      <td>0.561977</td>\n",
              "      <td>0.575963</td>\n",
              "      <td>0.705913</td>\n",
              "      <td>0.634351</td>\n",
              "    </tr>\n",
              "    <tr>\n",
              "      <th>1</th>\n",
              "      <td>SVM (Linear)</td>\n",
              "      <td>0.568398</td>\n",
              "      <td>0.577769</td>\n",
              "      <td>0.735996</td>\n",
              "      <td>0.647354</td>\n",
              "    </tr>\n",
              "  </tbody>\n",
              "</table>\n",
              "</div>"
            ],
            "text/plain": [
              "                       Model  Accuracy  Precision    Recall  F1 Score\n",
              "0  Linear Regression (Lasso)  0.561977   0.575963  0.705913  0.634351\n",
              "1               SVM (Linear)  0.568398   0.577769  0.735996  0.647354"
            ]
          },
          "metadata": {
            "tags": []
          },
          "execution_count": 34
        }
      ]
    },
    {
      "metadata": {
        "id": "1SUsI09Aa5xP",
        "colab_type": "text"
      },
      "cell_type": "markdown",
      "source": [
        "### SVM (rbf)"
      ]
    },
    {
      "metadata": {
        "id": "Rh6JBiKpa5xR",
        "colab_type": "code",
        "colab": {
          "base_uri": "https://localhost:8080/",
          "height": 85
        },
        "outputId": "e0243139-ebdc-428a-b994-e3398d146bd9"
      },
      "cell_type": "code",
      "source": [
        "from sklearn.svm import SVC\n",
        "classifier = SVC(random_state = 0, kernel = 'rbf')\n",
        "classifier.fit(X_train, y_train)"
      ],
      "execution_count": 35,
      "outputs": [
        {
          "output_type": "execute_result",
          "data": {
            "text/plain": [
              "SVC(C=1.0, cache_size=200, class_weight=None, coef0=0.0,\n",
              "  decision_function_shape='ovr', degree=3, gamma='auto_deprecated',\n",
              "  kernel='rbf', max_iter=-1, probability=False, random_state=0,\n",
              "  shrinking=True, tol=0.001, verbose=False)"
            ]
          },
          "metadata": {
            "tags": []
          },
          "execution_count": 35
        }
      ]
    },
    {
      "metadata": {
        "id": "26ltnFwwa5xY",
        "colab_type": "text"
      },
      "cell_type": "markdown",
      "source": [
        "### Predicting Test Set"
      ]
    },
    {
      "metadata": {
        "id": "eTNz64Sda5xd",
        "colab_type": "code",
        "colab": {}
      },
      "cell_type": "code",
      "source": [
        "y_pred = classifier.predict(X_test)"
      ],
      "execution_count": 0,
      "outputs": []
    },
    {
      "metadata": {
        "id": "MMqLENMDa5xn",
        "colab_type": "text"
      },
      "cell_type": "markdown",
      "source": [
        "### Evaluating the test set results"
      ]
    },
    {
      "metadata": {
        "id": "xSatogQLa5xp",
        "colab_type": "code",
        "colab": {}
      },
      "cell_type": "code",
      "source": [
        "acc = accuracy_score(y_test, y_pred)\n",
        "prec = precision_score(y_test, y_pred)\n",
        "rec = recall_score(y_test, y_pred)\n",
        "f1 = f1_score(y_test, y_pred)"
      ],
      "execution_count": 0,
      "outputs": []
    },
    {
      "metadata": {
        "id": "dE5UyexRa5xu",
        "colab_type": "code",
        "colab": {}
      },
      "cell_type": "code",
      "source": [
        "model_results = pd.DataFrame([['SVM (RBF)', acc, prec, rec, f1]],\n",
        "               columns = ['Model', 'Accuracy', 'Precision', 'Recall', 'F1 Score'])"
      ],
      "execution_count": 0,
      "outputs": []
    },
    {
      "metadata": {
        "id": "Tt6bBdRsa5x0",
        "colab_type": "code",
        "colab": {}
      },
      "cell_type": "code",
      "source": [
        "results = results.append(model_results, ignore_index = True)"
      ],
      "execution_count": 0,
      "outputs": []
    },
    {
      "metadata": {
        "id": "jtQuo5A5a5x5",
        "colab_type": "code",
        "colab": {
          "base_uri": "https://localhost:8080/",
          "height": 142
        },
        "outputId": "eeefd19b-b094-4b1e-c784-b56e19b6fb94"
      },
      "cell_type": "code",
      "source": [
        "results"
      ],
      "execution_count": 40,
      "outputs": [
        {
          "output_type": "execute_result",
          "data": {
            "text/html": [
              "<div>\n",
              "<style scoped>\n",
              "    .dataframe tbody tr th:only-of-type {\n",
              "        vertical-align: middle;\n",
              "    }\n",
              "\n",
              "    .dataframe tbody tr th {\n",
              "        vertical-align: top;\n",
              "    }\n",
              "\n",
              "    .dataframe thead th {\n",
              "        text-align: right;\n",
              "    }\n",
              "</style>\n",
              "<table border=\"1\" class=\"dataframe\">\n",
              "  <thead>\n",
              "    <tr style=\"text-align: right;\">\n",
              "      <th></th>\n",
              "      <th>Model</th>\n",
              "      <th>Accuracy</th>\n",
              "      <th>Precision</th>\n",
              "      <th>Recall</th>\n",
              "      <th>F1 Score</th>\n",
              "    </tr>\n",
              "  </thead>\n",
              "  <tbody>\n",
              "    <tr>\n",
              "      <th>0</th>\n",
              "      <td>Linear Regression (Lasso)</td>\n",
              "      <td>0.561977</td>\n",
              "      <td>0.575963</td>\n",
              "      <td>0.705913</td>\n",
              "      <td>0.634351</td>\n",
              "    </tr>\n",
              "    <tr>\n",
              "      <th>1</th>\n",
              "      <td>SVM (Linear)</td>\n",
              "      <td>0.568398</td>\n",
              "      <td>0.577769</td>\n",
              "      <td>0.735996</td>\n",
              "      <td>0.647354</td>\n",
              "    </tr>\n",
              "    <tr>\n",
              "      <th>2</th>\n",
              "      <td>SVM (RBF)</td>\n",
              "      <td>0.591569</td>\n",
              "      <td>0.605730</td>\n",
              "      <td>0.690871</td>\n",
              "      <td>0.645505</td>\n",
              "    </tr>\n",
              "  </tbody>\n",
              "</table>\n",
              "</div>"
            ],
            "text/plain": [
              "                       Model  Accuracy  Precision    Recall  F1 Score\n",
              "0  Linear Regression (Lasso)  0.561977   0.575963  0.705913  0.634351\n",
              "1               SVM (Linear)  0.568398   0.577769  0.735996  0.647354\n",
              "2                  SVM (RBF)  0.591569   0.605730  0.690871  0.645505"
            ]
          },
          "metadata": {
            "tags": []
          },
          "execution_count": 40
        }
      ]
    },
    {
      "metadata": {
        "id": "Qq2eBpK3a5yG",
        "colab_type": "text"
      },
      "cell_type": "markdown",
      "source": [
        "### RandomForestClassifier with 100 n_estimators"
      ]
    },
    {
      "metadata": {
        "id": "XVS9nxXca5yI",
        "colab_type": "code",
        "colab": {
          "base_uri": "https://localhost:8080/",
          "height": 119
        },
        "outputId": "2ee30cb8-f69a-4288-81f1-fd1fbdb87728"
      },
      "cell_type": "code",
      "source": [
        "from sklearn.ensemble import RandomForestClassifier\n",
        "classifier = RandomForestClassifier(random_state = 0, n_estimators = 100,\n",
        "                                    criterion = 'entropy')\n",
        "classifier.fit(X_train, y_train)"
      ],
      "execution_count": 41,
      "outputs": [
        {
          "output_type": "execute_result",
          "data": {
            "text/plain": [
              "RandomForestClassifier(bootstrap=True, class_weight=None, criterion='entropy',\n",
              "            max_depth=None, max_features='auto', max_leaf_nodes=None,\n",
              "            min_impurity_decrease=0.0, min_impurity_split=None,\n",
              "            min_samples_leaf=1, min_samples_split=2,\n",
              "            min_weight_fraction_leaf=0.0, n_estimators=100, n_jobs=None,\n",
              "            oob_score=False, random_state=0, verbose=0, warm_start=False)"
            ]
          },
          "metadata": {
            "tags": []
          },
          "execution_count": 41
        }
      ]
    },
    {
      "metadata": {
        "id": "BCou-yzxa5yQ",
        "colab_type": "text"
      },
      "cell_type": "markdown",
      "source": [
        "### Predicting Test Set"
      ]
    },
    {
      "metadata": {
        "id": "c0Yw5xewa5yR",
        "colab_type": "code",
        "colab": {}
      },
      "cell_type": "code",
      "source": [
        "y_pred = classifier.predict(X_test)"
      ],
      "execution_count": 0,
      "outputs": []
    },
    {
      "metadata": {
        "id": "YQUMHSRYa5yV",
        "colab_type": "text"
      },
      "cell_type": "markdown",
      "source": [
        "### Evaluating the test set results"
      ]
    },
    {
      "metadata": {
        "id": "zwYZ-yr2a5yX",
        "colab_type": "code",
        "colab": {}
      },
      "cell_type": "code",
      "source": [
        "acc = accuracy_score(y_test, y_pred)\n",
        "prec = precision_score(y_test, y_pred)\n",
        "rec = recall_score(y_test, y_pred)\n",
        "f1 = f1_score(y_test, y_pred)"
      ],
      "execution_count": 0,
      "outputs": []
    },
    {
      "metadata": {
        "id": "UTCanFZva5yd",
        "colab_type": "code",
        "colab": {}
      },
      "cell_type": "code",
      "source": [
        "model_results = pd.DataFrame([['Random Forest (n=100)', acc, prec, rec, f1]],\n",
        "               columns = ['Model', 'Accuracy', 'Precision', 'Recall', 'F1 Score'])"
      ],
      "execution_count": 0,
      "outputs": []
    },
    {
      "metadata": {
        "id": "UU9RXab1a5yh",
        "colab_type": "code",
        "colab": {}
      },
      "cell_type": "code",
      "source": [
        "results = results.append(model_results, ignore_index = True)"
      ],
      "execution_count": 0,
      "outputs": []
    },
    {
      "metadata": {
        "id": "fzjhBvtRa5yk",
        "colab_type": "code",
        "colab": {
          "base_uri": "https://localhost:8080/",
          "height": 173
        },
        "outputId": "571e8d3d-670c-4016-cce3-9a8c178b920d"
      },
      "cell_type": "code",
      "source": [
        "results"
      ],
      "execution_count": 46,
      "outputs": [
        {
          "output_type": "execute_result",
          "data": {
            "text/html": [
              "<div>\n",
              "<style scoped>\n",
              "    .dataframe tbody tr th:only-of-type {\n",
              "        vertical-align: middle;\n",
              "    }\n",
              "\n",
              "    .dataframe tbody tr th {\n",
              "        vertical-align: top;\n",
              "    }\n",
              "\n",
              "    .dataframe thead th {\n",
              "        text-align: right;\n",
              "    }\n",
              "</style>\n",
              "<table border=\"1\" class=\"dataframe\">\n",
              "  <thead>\n",
              "    <tr style=\"text-align: right;\">\n",
              "      <th></th>\n",
              "      <th>Model</th>\n",
              "      <th>Accuracy</th>\n",
              "      <th>Precision</th>\n",
              "      <th>Recall</th>\n",
              "      <th>F1 Score</th>\n",
              "    </tr>\n",
              "  </thead>\n",
              "  <tbody>\n",
              "    <tr>\n",
              "      <th>0</th>\n",
              "      <td>Linear Regression (Lasso)</td>\n",
              "      <td>0.561977</td>\n",
              "      <td>0.575963</td>\n",
              "      <td>0.705913</td>\n",
              "      <td>0.634351</td>\n",
              "    </tr>\n",
              "    <tr>\n",
              "      <th>1</th>\n",
              "      <td>SVM (Linear)</td>\n",
              "      <td>0.568398</td>\n",
              "      <td>0.577769</td>\n",
              "      <td>0.735996</td>\n",
              "      <td>0.647354</td>\n",
              "    </tr>\n",
              "    <tr>\n",
              "      <th>2</th>\n",
              "      <td>SVM (RBF)</td>\n",
              "      <td>0.591569</td>\n",
              "      <td>0.605730</td>\n",
              "      <td>0.690871</td>\n",
              "      <td>0.645505</td>\n",
              "    </tr>\n",
              "    <tr>\n",
              "      <th>3</th>\n",
              "      <td>Random Forest (n=100)</td>\n",
              "      <td>0.621720</td>\n",
              "      <td>0.640098</td>\n",
              "      <td>0.678942</td>\n",
              "      <td>0.658948</td>\n",
              "    </tr>\n",
              "  </tbody>\n",
              "</table>\n",
              "</div>"
            ],
            "text/plain": [
              "                       Model  Accuracy  Precision    Recall  F1 Score\n",
              "0  Linear Regression (Lasso)  0.561977   0.575963  0.705913  0.634351\n",
              "1               SVM (Linear)  0.568398   0.577769  0.735996  0.647354\n",
              "2                  SVM (RBF)  0.591569   0.605730  0.690871  0.645505\n",
              "3      Random Forest (n=100)  0.621720   0.640098  0.678942  0.658948"
            ]
          },
          "metadata": {
            "tags": []
          },
          "execution_count": 46
        }
      ]
    },
    {
      "metadata": {
        "id": "lB_rA9P2a5yw",
        "colab_type": "text"
      },
      "cell_type": "markdown",
      "source": [
        "### K-fold Cross Validation"
      ]
    },
    {
      "metadata": {
        "id": "-_klMAOoa5y_",
        "colab_type": "code",
        "colab": {}
      },
      "cell_type": "code",
      "source": [
        "from sklearn.model_selection import cross_val_score\n",
        "accuracies = cross_val_score(estimator = classifier, X= X_train, y = y_train,\n",
        "                             cv = 10)"
      ],
      "execution_count": 0,
      "outputs": []
    },
    {
      "metadata": {
        "id": "yXijTQEla5zC",
        "colab_type": "code",
        "colab": {
          "base_uri": "https://localhost:8080/",
          "height": 34
        },
        "outputId": "c7320f4c-21e5-464b-c706-1b4b3147e3fd"
      },
      "cell_type": "code",
      "source": [
        "print(\"Random Forest Classifier Accuracy: %0.2f (+/- %0.2f)\"  % (accuracies.mean(), accuracies.std() * 2))"
      ],
      "execution_count": 48,
      "outputs": [
        {
          "output_type": "stream",
          "text": [
            "Random Forest Classifier Accuracy: 0.63 (+/- 0.03)\n"
          ],
          "name": "stdout"
        }
      ]
    },
    {
      "metadata": {
        "id": "0UPKD4Jga5zH",
        "colab_type": "text"
      },
      "cell_type": "markdown",
      "source": [
        "## Parameter Tuning"
      ]
    },
    {
      "metadata": {
        "id": "fWbZuwo6a5zI",
        "colab_type": "text"
      },
      "cell_type": "markdown",
      "source": [
        "### Applying Grid Search"
      ]
    },
    {
      "metadata": {
        "id": "zf0RFNHCa5zJ",
        "colab_type": "text"
      },
      "cell_type": "markdown",
      "source": [
        "#### Round 1: Entropy"
      ]
    },
    {
      "metadata": {
        "id": "PpQYLxsDa5zK",
        "colab_type": "code",
        "colab": {}
      },
      "cell_type": "code",
      "source": [
        "parameters = {\"max_depth\": [3, None],\n",
        "              \"max_features\": [1, 5, 10],\n",
        "              'min_samples_split': [2, 5, 10],\n",
        "              'min_samples_leaf': [1, 5, 10],\n",
        "              \"bootstrap\": [True, False],\n",
        "              \"criterion\": [\"entropy\"]}"
      ],
      "execution_count": 0,
      "outputs": []
    },
    {
      "metadata": {
        "id": "q_5As8Aoa5zN",
        "colab_type": "code",
        "colab": {}
      },
      "cell_type": "code",
      "source": [
        "from sklearn.model_selection import GridSearchCV\n",
        "grid_search = GridSearchCV(estimator = classifier, # Make sure classifier points to the RF model\n",
        "                           param_grid = parameters,\n",
        "                           scoring = \"accuracy\",\n",
        "                           cv = 10,\n",
        "                           n_jobs = -1, verbose =1)"
      ],
      "execution_count": 0,
      "outputs": []
    },
    {
      "metadata": {
        "id": "OyLRiqG_a5zS",
        "colab_type": "code",
        "colab": {
          "base_uri": "https://localhost:8080/",
          "height": 136
        },
        "outputId": "53fff8bc-debb-42e9-866b-74d5e5f436fe"
      },
      "cell_type": "code",
      "source": [
        "%timeit\n",
        "grid_search = grid_search.fit(X_train, y_train)"
      ],
      "execution_count": 57,
      "outputs": [
        {
          "output_type": "stream",
          "text": [
            "Fitting 10 folds for each of 108 candidates, totalling 1080 fits\n"
          ],
          "name": "stdout"
        },
        {
          "output_type": "stream",
          "text": [
            "[Parallel(n_jobs=-1)]: Using backend LokyBackend with 2 concurrent workers.\n",
            "[Parallel(n_jobs=-1)]: Done  46 tasks      | elapsed:   23.5s\n",
            "[Parallel(n_jobs=-1)]: Done 196 tasks      | elapsed:  3.2min\n",
            "[Parallel(n_jobs=-1)]: Done 446 tasks      | elapsed: 16.8min\n",
            "[Parallel(n_jobs=-1)]: Done 796 tasks      | elapsed: 39.8min\n",
            "[Parallel(n_jobs=-1)]: Done 1080 out of 1080 | elapsed: 83.5min finished\n"
          ],
          "name": "stderr"
        }
      ]
    },
    {
      "metadata": {
        "id": "6O1f4WQEa5zW",
        "colab_type": "code",
        "colab": {
          "base_uri": "https://localhost:8080/",
          "height": 136
        },
        "outputId": "8a88495d-ff0a-4583-cc37-ce932786bb5b"
      },
      "cell_type": "code",
      "source": [
        "rf_best_accuracy = grid_search.best_score_\n",
        "rf_best_parameters = grid_search.best_params_\n",
        "rf_best_accuracy, rf_best_parameters"
      ],
      "execution_count": 58,
      "outputs": [
        {
          "output_type": "execute_result",
          "data": {
            "text/plain": [
              "(0.6356275303643725,\n",
              " {'bootstrap': True,\n",
              "  'criterion': 'entropy',\n",
              "  'max_depth': None,\n",
              "  'max_features': 5,\n",
              "  'min_samples_leaf': 1,\n",
              "  'min_samples_split': 10})"
            ]
          },
          "metadata": {
            "tags": []
          },
          "execution_count": 58
        }
      ]
    },
    {
      "metadata": {
        "id": "qW0e0Z_da5zZ",
        "colab_type": "text"
      },
      "cell_type": "markdown",
      "source": [
        "#### Round 2: Entropy"
      ]
    },
    {
      "metadata": {
        "id": "IhTHDCAda5za",
        "colab_type": "code",
        "colab": {}
      },
      "cell_type": "code",
      "source": [
        "parameters = {\"max_depth\": [None],\n",
        "              \"max_features\": [3, 5, 7],\n",
        "              'min_samples_split': [8, 10, 12],\n",
        "              'min_samples_leaf': [1, 2, 3],\n",
        "              \"bootstrap\": [True],\n",
        "              \"criterion\": [\"entropy\"]}"
      ],
      "execution_count": 0,
      "outputs": []
    },
    {
      "metadata": {
        "id": "KGIkofcUa5ze",
        "colab_type": "code",
        "colab": {}
      },
      "cell_type": "code",
      "source": [
        "from sklearn.model_selection import GridSearchCV\n",
        "grid_search = GridSearchCV(estimator = classifier, # Make sure classifier points to the RF model\n",
        "                           param_grid = parameters,\n",
        "                           scoring = \"accuracy\",\n",
        "                           cv = 10,\n",
        "                           n_jobs = -1, verbose =1)"
      ],
      "execution_count": 0,
      "outputs": []
    },
    {
      "metadata": {
        "id": "XpEXf-XCa5zh",
        "colab_type": "code",
        "colab": {
          "base_uri": "https://localhost:8080/",
          "height": 102
        },
        "outputId": "b93bd87c-12a2-4866-e59e-30a3316957e3"
      },
      "cell_type": "code",
      "source": [
        "%timeit\n",
        "grid_search = grid_search.fit(X_train, y_train)"
      ],
      "execution_count": 63,
      "outputs": [
        {
          "output_type": "stream",
          "text": [
            "Fitting 10 folds for each of 27 candidates, totalling 270 fits\n"
          ],
          "name": "stdout"
        },
        {
          "output_type": "stream",
          "text": [
            "[Parallel(n_jobs=-1)]: Using backend LokyBackend with 2 concurrent workers.\n",
            "[Parallel(n_jobs=-1)]: Done  46 tasks      | elapsed:  3.2min\n",
            "[Parallel(n_jobs=-1)]: Done 196 tasks      | elapsed: 17.2min\n",
            "[Parallel(n_jobs=-1)]: Done 270 out of 270 | elapsed: 26.9min finished\n"
          ],
          "name": "stderr"
        }
      ]
    },
    {
      "metadata": {
        "id": "7DOhV4eAQhat",
        "colab_type": "code",
        "colab": {
          "base_uri": "https://localhost:8080/",
          "height": 136
        },
        "outputId": "a3983693-3fe2-4ea1-bde3-906bdfbfabc5"
      },
      "cell_type": "code",
      "source": [
        "rf_best_accuracy = grid_search.best_score_\n",
        "rf_best_parameters = grid_search.best_params_\n",
        "rf_best_accuracy, rf_best_parameters"
      ],
      "execution_count": 66,
      "outputs": [
        {
          "output_type": "execute_result",
          "data": {
            "text/plain": [
              "(0.6356275303643725,\n",
              " {'bootstrap': True,\n",
              "  'criterion': 'entropy',\n",
              "  'max_depth': None,\n",
              "  'max_features': 5,\n",
              "  'min_samples_leaf': 1,\n",
              "  'min_samples_split': 10})"
            ]
          },
          "metadata": {
            "tags": []
          },
          "execution_count": 66
        }
      ]
    },
    {
      "metadata": {
        "id": "xhMTcbPTa5zn",
        "colab_type": "text"
      },
      "cell_type": "markdown",
      "source": [
        "### Predicting Test Set"
      ]
    },
    {
      "metadata": {
        "id": "WosKMfEsa5zo",
        "colab_type": "code",
        "colab": {}
      },
      "cell_type": "code",
      "source": [
        "y_pred = grid_search.predict(X_test)"
      ],
      "execution_count": 0,
      "outputs": []
    },
    {
      "metadata": {
        "id": "U1QKwOl7a5zx",
        "colab_type": "text"
      },
      "cell_type": "markdown",
      "source": [
        "### Evaluating the test set results"
      ]
    },
    {
      "metadata": {
        "id": "uw3fJChka5zy",
        "colab_type": "code",
        "colab": {}
      },
      "cell_type": "code",
      "source": [
        "acc = accuracy_score(y_test, y_pred)\n",
        "prec = precision_score(y_test, y_pred)\n",
        "rec = recall_score(y_test, y_pred)\n",
        "f1 = f1_score(y_test, y_pred)"
      ],
      "execution_count": 0,
      "outputs": []
    },
    {
      "metadata": {
        "id": "8Jhujjmsa5z4",
        "colab_type": "code",
        "colab": {}
      },
      "cell_type": "code",
      "source": [
        "model_results = pd.DataFrame([['Random Forest (n=100, GSx2 + Entropy)', acc, prec, rec, f1]],\n",
        "               columns = ['Model', 'Accuracy', 'Precision', 'Recall', 'F1 Score'])"
      ],
      "execution_count": 0,
      "outputs": []
    },
    {
      "metadata": {
        "id": "fkWfQ-q_a50A",
        "colab_type": "code",
        "colab": {}
      },
      "cell_type": "code",
      "source": [
        "results = results.append(model_results, ignore_index = True)"
      ],
      "execution_count": 0,
      "outputs": []
    },
    {
      "metadata": {
        "id": "WjmImS3ya50E",
        "colab_type": "code",
        "colab": {
          "base_uri": "https://localhost:8080/",
          "height": 204
        },
        "outputId": "18824f38-eaab-4336-ae95-f18327fd5a0b"
      },
      "cell_type": "code",
      "source": [
        "results"
      ],
      "execution_count": 71,
      "outputs": [
        {
          "output_type": "execute_result",
          "data": {
            "text/html": [
              "<div>\n",
              "<style scoped>\n",
              "    .dataframe tbody tr th:only-of-type {\n",
              "        vertical-align: middle;\n",
              "    }\n",
              "\n",
              "    .dataframe tbody tr th {\n",
              "        vertical-align: top;\n",
              "    }\n",
              "\n",
              "    .dataframe thead th {\n",
              "        text-align: right;\n",
              "    }\n",
              "</style>\n",
              "<table border=\"1\" class=\"dataframe\">\n",
              "  <thead>\n",
              "    <tr style=\"text-align: right;\">\n",
              "      <th></th>\n",
              "      <th>Model</th>\n",
              "      <th>Accuracy</th>\n",
              "      <th>Precision</th>\n",
              "      <th>Recall</th>\n",
              "      <th>F1 Score</th>\n",
              "    </tr>\n",
              "  </thead>\n",
              "  <tbody>\n",
              "    <tr>\n",
              "      <th>0</th>\n",
              "      <td>Linear Regression (Lasso)</td>\n",
              "      <td>0.561977</td>\n",
              "      <td>0.575963</td>\n",
              "      <td>0.705913</td>\n",
              "      <td>0.634351</td>\n",
              "    </tr>\n",
              "    <tr>\n",
              "      <th>1</th>\n",
              "      <td>SVM (Linear)</td>\n",
              "      <td>0.568398</td>\n",
              "      <td>0.577769</td>\n",
              "      <td>0.735996</td>\n",
              "      <td>0.647354</td>\n",
              "    </tr>\n",
              "    <tr>\n",
              "      <th>2</th>\n",
              "      <td>SVM (RBF)</td>\n",
              "      <td>0.591569</td>\n",
              "      <td>0.605730</td>\n",
              "      <td>0.690871</td>\n",
              "      <td>0.645505</td>\n",
              "    </tr>\n",
              "    <tr>\n",
              "      <th>3</th>\n",
              "      <td>Random Forest (n=100)</td>\n",
              "      <td>0.621720</td>\n",
              "      <td>0.640098</td>\n",
              "      <td>0.678942</td>\n",
              "      <td>0.658948</td>\n",
              "    </tr>\n",
              "    <tr>\n",
              "      <th>4</th>\n",
              "      <td>Random Forest (n=100, GSx2 + Entropy)</td>\n",
              "      <td>0.635958</td>\n",
              "      <td>0.646617</td>\n",
              "      <td>0.713693</td>\n",
              "      <td>0.678501</td>\n",
              "    </tr>\n",
              "  </tbody>\n",
              "</table>\n",
              "</div>"
            ],
            "text/plain": [
              "                                   Model  Accuracy  Precision    Recall  \\\n",
              "0              Linear Regression (Lasso)  0.561977   0.575963  0.705913   \n",
              "1                           SVM (Linear)  0.568398   0.577769  0.735996   \n",
              "2                              SVM (RBF)  0.591569   0.605730  0.690871   \n",
              "3                  Random Forest (n=100)  0.621720   0.640098  0.678942   \n",
              "4  Random Forest (n=100, GSx2 + Entropy)  0.635958   0.646617  0.713693   \n",
              "\n",
              "   F1 Score  \n",
              "0  0.634351  \n",
              "1  0.647354  \n",
              "2  0.645505  \n",
              "3  0.658948  \n",
              "4  0.678501  "
            ]
          },
          "metadata": {
            "tags": []
          },
          "execution_count": 71
        }
      ]
    },
    {
      "metadata": {
        "id": "-ZccOMyza50J",
        "colab_type": "text"
      },
      "cell_type": "markdown",
      "source": [
        "#### Round 1: Gini"
      ]
    },
    {
      "metadata": {
        "id": "M-vvTT6ga50K",
        "colab_type": "code",
        "colab": {}
      },
      "cell_type": "code",
      "source": [
        "parameters = {\"max_depth\": [3, None],\n",
        "              \"max_features\": [1, 5, 10],\n",
        "              'min_samples_split': [2, 5, 10],\n",
        "              'min_samples_leaf': [1, 5, 10],\n",
        "              \"bootstrap\": [True, False],\n",
        "              \"criterion\": [\"gini\"]}"
      ],
      "execution_count": 0,
      "outputs": []
    },
    {
      "metadata": {
        "id": "aasrAW4ya50N",
        "colab_type": "code",
        "colab": {}
      },
      "cell_type": "code",
      "source": [
        "from sklearn.model_selection import GridSearchCV\n",
        "grid_search = GridSearchCV(estimator = classifier, # Make sure classifier points to the RF model\n",
        "                           param_grid = parameters,\n",
        "                           scoring = \"accuracy\",\n",
        "                           cv = 10,\n",
        "                           n_jobs = -1, verbose= 1)"
      ],
      "execution_count": 0,
      "outputs": []
    },
    {
      "metadata": {
        "id": "nnMScqfWa50T",
        "colab_type": "code",
        "colab": {
          "base_uri": "https://localhost:8080/",
          "height": 136
        },
        "outputId": "7e5479a8-3287-4b22-f817-b220d71c1c5b"
      },
      "cell_type": "code",
      "source": [
        "%timeit\n",
        "grid_search = grid_search.fit(X_train, y_train)"
      ],
      "execution_count": 75,
      "outputs": [
        {
          "output_type": "stream",
          "text": [
            "Fitting 10 folds for each of 108 candidates, totalling 1080 fits\n"
          ],
          "name": "stdout"
        },
        {
          "output_type": "stream",
          "text": [
            "[Parallel(n_jobs=-1)]: Using backend LokyBackend with 2 concurrent workers.\n",
            "[Parallel(n_jobs=-1)]: Done  46 tasks      | elapsed:   17.4s\n",
            "[Parallel(n_jobs=-1)]: Done 196 tasks      | elapsed:  2.2min\n",
            "[Parallel(n_jobs=-1)]: Done 446 tasks      | elapsed: 10.2min\n",
            "[Parallel(n_jobs=-1)]: Done 796 tasks      | elapsed: 23.0min\n",
            "[Parallel(n_jobs=-1)]: Done 1080 out of 1080 | elapsed: 45.9min finished\n"
          ],
          "name": "stderr"
        }
      ]
    },
    {
      "metadata": {
        "id": "gp4sqC8fa50W",
        "colab_type": "code",
        "colab": {
          "base_uri": "https://localhost:8080/",
          "height": 136
        },
        "outputId": "f3d72455-f5a2-4b77-e4c7-9cb0b6575d5c"
      },
      "cell_type": "code",
      "source": [
        "rf_best_accuracy = grid_search.best_score_\n",
        "rf_best_parameters = grid_search.best_params_\n",
        "rf_best_accuracy, rf_best_parameters"
      ],
      "execution_count": 76,
      "outputs": [
        {
          "output_type": "execute_result",
          "data": {
            "text/plain": [
              "(0.6363953650705012,\n",
              " {'bootstrap': True,\n",
              "  'criterion': 'gini',\n",
              "  'max_depth': None,\n",
              "  'max_features': 10,\n",
              "  'min_samples_leaf': 10,\n",
              "  'min_samples_split': 2})"
            ]
          },
          "metadata": {
            "tags": []
          },
          "execution_count": 76
        }
      ]
    },
    {
      "metadata": {
        "id": "kE9QS-80a50b",
        "colab_type": "text"
      },
      "cell_type": "markdown",
      "source": [
        "#### Round 2: Gini"
      ]
    },
    {
      "metadata": {
        "id": "GeagUEFya50c",
        "colab_type": "code",
        "colab": {}
      },
      "cell_type": "code",
      "source": [
        "parameters = {\"max_depth\": [None],\n",
        "              \"max_features\": [8, 10, 12],\n",
        "              'min_samples_split': [2, 3, 4],\n",
        "              'min_samples_leaf': [8, 10, 12],\n",
        "              \"bootstrap\": [True],\n",
        "              \"criterion\": [\"gini\"]}"
      ],
      "execution_count": 0,
      "outputs": []
    },
    {
      "metadata": {
        "id": "c5MaR0zda50k",
        "colab_type": "code",
        "colab": {}
      },
      "cell_type": "code",
      "source": [
        "from sklearn.model_selection import GridSearchCV\n",
        "grid_search = GridSearchCV(estimator = classifier, # Make sure classifier points to the RF model\n",
        "                           param_grid = parameters,\n",
        "                           scoring = \"accuracy\",\n",
        "                           cv = 10,\n",
        "                           n_jobs = -1, verbose= 1)"
      ],
      "execution_count": 0,
      "outputs": []
    },
    {
      "metadata": {
        "id": "ZY7i84pKa50n",
        "colab_type": "code",
        "colab": {
          "base_uri": "https://localhost:8080/",
          "height": 102
        },
        "outputId": "58360b96-34ed-4c9f-c20a-de17bad39484"
      },
      "cell_type": "code",
      "source": [
        "%timeit\n",
        "grid_search = grid_search.fit(X_train, y_train)"
      ],
      "execution_count": 79,
      "outputs": [
        {
          "output_type": "stream",
          "text": [
            "Fitting 10 folds for each of 27 candidates, totalling 270 fits\n"
          ],
          "name": "stdout"
        },
        {
          "output_type": "stream",
          "text": [
            "[Parallel(n_jobs=-1)]: Using backend LokyBackend with 2 concurrent workers.\n",
            "[Parallel(n_jobs=-1)]: Done  46 tasks      | elapsed:  3.4min\n",
            "[Parallel(n_jobs=-1)]: Done 196 tasks      | elapsed: 16.0min\n",
            "[Parallel(n_jobs=-1)]: Done 270 out of 270 | elapsed: 23.5min finished\n"
          ],
          "name": "stderr"
        }
      ]
    },
    {
      "metadata": {
        "id": "P6JFbqpxa50r",
        "colab_type": "code",
        "colab": {
          "base_uri": "https://localhost:8080/",
          "height": 136
        },
        "outputId": "09906468-b5d9-4ca1-cf90-6bdb8fcb9289"
      },
      "cell_type": "code",
      "source": [
        "rf_best_accuracy = grid_search.best_score_\n",
        "rf_best_parameters = grid_search.best_params_\n",
        "rf_best_accuracy, rf_best_parameters"
      ],
      "execution_count": 80,
      "outputs": [
        {
          "output_type": "execute_result",
          "data": {
            "text/plain": [
              "(0.6386988691888873,\n",
              " {'bootstrap': True,\n",
              "  'criterion': 'gini',\n",
              "  'max_depth': None,\n",
              "  'max_features': 12,\n",
              "  'min_samples_leaf': 12,\n",
              "  'min_samples_split': 2})"
            ]
          },
          "metadata": {
            "tags": []
          },
          "execution_count": 80
        }
      ]
    },
    {
      "metadata": {
        "id": "93SZydmwa50v",
        "colab_type": "text"
      },
      "cell_type": "markdown",
      "source": [
        "### Predicting Test Set"
      ]
    },
    {
      "metadata": {
        "id": "gZM9qmHea50w",
        "colab_type": "code",
        "colab": {}
      },
      "cell_type": "code",
      "source": [
        "y_pred = grid_search.predict(X_test)"
      ],
      "execution_count": 0,
      "outputs": []
    },
    {
      "metadata": {
        "id": "UpqUa9Sya501",
        "colab_type": "text"
      },
      "cell_type": "markdown",
      "source": [
        "### Evaluating the test set results"
      ]
    },
    {
      "metadata": {
        "id": "iM9aNcFoa502",
        "colab_type": "code",
        "colab": {}
      },
      "cell_type": "code",
      "source": [
        "acc = accuracy_score(y_test, y_pred)\n",
        "prec = precision_score(y_test, y_pred)\n",
        "rec = recall_score(y_test, y_pred)\n",
        "f1 = f1_score(y_test, y_pred)"
      ],
      "execution_count": 0,
      "outputs": []
    },
    {
      "metadata": {
        "id": "sXVGfD7Fa504",
        "colab_type": "code",
        "colab": {}
      },
      "cell_type": "code",
      "source": [
        "model_results = pd.DataFrame([['Random Forest (n=100, GSx2 + Gini)', acc, prec, rec, f1]],\n",
        "               columns = ['Model', 'Accuracy', 'Precision', 'Recall', 'F1 Score'])"
      ],
      "execution_count": 0,
      "outputs": []
    },
    {
      "metadata": {
        "id": "wrc2s9nea507",
        "colab_type": "code",
        "colab": {}
      },
      "cell_type": "code",
      "source": [
        "results = results.append(model_results, ignore_index = True)"
      ],
      "execution_count": 0,
      "outputs": []
    },
    {
      "metadata": {
        "id": "1gj9kstma51B",
        "colab_type": "code",
        "colab": {
          "base_uri": "https://localhost:8080/",
          "height": 235
        },
        "outputId": "c60bd0de-b935-42a6-e07d-da087cfa4e75"
      },
      "cell_type": "code",
      "source": [
        "results"
      ],
      "execution_count": 85,
      "outputs": [
        {
          "output_type": "execute_result",
          "data": {
            "text/html": [
              "<div>\n",
              "<style scoped>\n",
              "    .dataframe tbody tr th:only-of-type {\n",
              "        vertical-align: middle;\n",
              "    }\n",
              "\n",
              "    .dataframe tbody tr th {\n",
              "        vertical-align: top;\n",
              "    }\n",
              "\n",
              "    .dataframe thead th {\n",
              "        text-align: right;\n",
              "    }\n",
              "</style>\n",
              "<table border=\"1\" class=\"dataframe\">\n",
              "  <thead>\n",
              "    <tr style=\"text-align: right;\">\n",
              "      <th></th>\n",
              "      <th>Model</th>\n",
              "      <th>Accuracy</th>\n",
              "      <th>Precision</th>\n",
              "      <th>Recall</th>\n",
              "      <th>F1 Score</th>\n",
              "    </tr>\n",
              "  </thead>\n",
              "  <tbody>\n",
              "    <tr>\n",
              "      <th>0</th>\n",
              "      <td>Linear Regression (Lasso)</td>\n",
              "      <td>0.561977</td>\n",
              "      <td>0.575963</td>\n",
              "      <td>0.705913</td>\n",
              "      <td>0.634351</td>\n",
              "    </tr>\n",
              "    <tr>\n",
              "      <th>1</th>\n",
              "      <td>SVM (Linear)</td>\n",
              "      <td>0.568398</td>\n",
              "      <td>0.577769</td>\n",
              "      <td>0.735996</td>\n",
              "      <td>0.647354</td>\n",
              "    </tr>\n",
              "    <tr>\n",
              "      <th>2</th>\n",
              "      <td>SVM (RBF)</td>\n",
              "      <td>0.591569</td>\n",
              "      <td>0.605730</td>\n",
              "      <td>0.690871</td>\n",
              "      <td>0.645505</td>\n",
              "    </tr>\n",
              "    <tr>\n",
              "      <th>3</th>\n",
              "      <td>Random Forest (n=100)</td>\n",
              "      <td>0.621720</td>\n",
              "      <td>0.640098</td>\n",
              "      <td>0.678942</td>\n",
              "      <td>0.658948</td>\n",
              "    </tr>\n",
              "    <tr>\n",
              "      <th>4</th>\n",
              "      <td>Random Forest (n=100, GSx2 + Entropy)</td>\n",
              "      <td>0.635958</td>\n",
              "      <td>0.646617</td>\n",
              "      <td>0.713693</td>\n",
              "      <td>0.678501</td>\n",
              "    </tr>\n",
              "    <tr>\n",
              "      <th>5</th>\n",
              "      <td>Random Forest (n=100, GSx2 + Gini)</td>\n",
              "      <td>0.635399</td>\n",
              "      <td>0.649376</td>\n",
              "      <td>0.701245</td>\n",
              "      <td>0.674314</td>\n",
              "    </tr>\n",
              "  </tbody>\n",
              "</table>\n",
              "</div>"
            ],
            "text/plain": [
              "                                   Model  Accuracy  Precision    Recall  \\\n",
              "0              Linear Regression (Lasso)  0.561977   0.575963  0.705913   \n",
              "1                           SVM (Linear)  0.568398   0.577769  0.735996   \n",
              "2                              SVM (RBF)  0.591569   0.605730  0.690871   \n",
              "3                  Random Forest (n=100)  0.621720   0.640098  0.678942   \n",
              "4  Random Forest (n=100, GSx2 + Entropy)  0.635958   0.646617  0.713693   \n",
              "5     Random Forest (n=100, GSx2 + Gini)  0.635399   0.649376  0.701245   \n",
              "\n",
              "   F1 Score  \n",
              "0  0.634351  \n",
              "1  0.647354  \n",
              "2  0.645505  \n",
              "3  0.658948  \n",
              "4  0.678501  \n",
              "5  0.674314  "
            ]
          },
          "metadata": {
            "tags": []
          },
          "execution_count": 85
        }
      ]
    },
    {
      "metadata": {
        "id": "f7WjFLOvhost",
        "colab_type": "text"
      },
      "cell_type": "markdown",
      "source": [
        "*So, Random forest with entropy is the best fitted and we are going to use it and our best hyperparameters look like:\n",
        "{'bootstrap': True,\n",
        "  'criterion': 'entropy',\n",
        "  'max_depth': None,\n",
        "  'max_features': 5,\n",
        "  'min_samples_leaf': 1,\n",
        "  'min_samples_split': 10}*"
      ]
    },
    {
      "metadata": {
        "id": "qAE5xJgtexvH",
        "colab_type": "code",
        "colab": {
          "base_uri": "https://localhost:8080/",
          "height": 119
        },
        "outputId": "e5e25b33-8316-46ef-d75e-fe1dc7480df3"
      },
      "cell_type": "code",
      "source": [
        "from sklearn.ensemble import RandomForestClassifier\n",
        "classifier = RandomForestClassifier(random_state = 0,bootstrap=True, max_depth=None, max_features=5, min_samples_leaf=1, min_samples_split=10, n_estimators = 100,\n",
        "                                    criterion = 'entropy')\n",
        "classifier.fit(X_train, y_train)"
      ],
      "execution_count": 86,
      "outputs": [
        {
          "output_type": "execute_result",
          "data": {
            "text/plain": [
              "RandomForestClassifier(bootstrap=True, class_weight=None, criterion='entropy',\n",
              "            max_depth=None, max_features=5, max_leaf_nodes=None,\n",
              "            min_impurity_decrease=0.0, min_impurity_split=None,\n",
              "            min_samples_leaf=1, min_samples_split=10,\n",
              "            min_weight_fraction_leaf=0.0, n_estimators=100, n_jobs=None,\n",
              "            oob_score=False, random_state=0, verbose=0, warm_start=False)"
            ]
          },
          "metadata": {
            "tags": []
          },
          "execution_count": 86
        }
      ]
    },
    {
      "metadata": {
        "id": "SpYLyx6OiBQR",
        "colab_type": "code",
        "colab": {}
      },
      "cell_type": "code",
      "source": [
        "y_pred = classifier.predict(X_test)"
      ],
      "execution_count": 0,
      "outputs": []
    },
    {
      "metadata": {
        "id": "Ym1GmZKCjImY",
        "colab_type": "text"
      },
      "cell_type": "markdown",
      "source": [
        "### Confusion Matrix"
      ]
    },
    {
      "metadata": {
        "id": "HZvUIYTdi-k9",
        "colab_type": "code",
        "colab": {
          "base_uri": "https://localhost:8080/",
          "height": 449
        },
        "outputId": "d3b11ff3-491a-4637-c55d-161c92d0335e"
      },
      "cell_type": "code",
      "source": [
        "cm = confusion_matrix(y_test, y_pred) # rows = truth, cols = prediction\n",
        "df_cm = pd.DataFrame(cm, index = (0, 1), columns = (0, 1))\n",
        "plt.figure(figsize = (10,7))\n",
        "sns.set(font_scale=1.4)\n",
        "sns.heatmap(df_cm, annot=True, fmt='g')\n",
        "print(\"Test Data Accuracy: %0.4f\" % accuracy_score(y_test, y_pred))"
      ],
      "execution_count": 89,
      "outputs": [
        {
          "output_type": "stream",
          "text": [
            "Test Data Accuracy: 0.6360\n"
          ],
          "name": "stdout"
        },
        {
          "output_type": "display_data",
          "data": {
            "image/png": "[encoded data removed]",
            "text/plain": [
              "<Figure size 720x504 with 2 Axes>"
            ]
          },
          "metadata": {
            "tags": []
          }
        }
      ]
    },
    {
      "metadata": {
        "id": "U8nGospEjUL9",
        "colab_type": "text"
      },
      "cell_type": "markdown",
      "source": [
        "## End of Model"
      ]
    },
    {
      "metadata": {
        "id": "bxQTj1d3je_W",
        "colab_type": "text"
      },
      "cell_type": "markdown",
      "source": [
        "# Formatting Final Results"
      ]
    },
    {
      "metadata": {
        "id": "qwRiqka9jQD7",
        "colab_type": "code",
        "colab": {}
      },
      "cell_type": "code",
      "source": [
        "final_results = pd.concat([y_test, users], axis = 1).dropna()\n",
        "final_results['predictions'] = y_pred\n",
        "final_results = final_results[['entry_id', 'e_signed', 'predictions']]"
      ],
      "execution_count": 0,
      "outputs": []
    },
    {
      "metadata": {
        "id": "SDH3CT8rjp_g",
        "colab_type": "code",
        "colab": {
          "base_uri": "https://localhost:8080/",
          "height": 1969
        },
        "outputId": "c9738f5c-6c3f-44f0-ee96-48f4a6db8b95"
      },
      "cell_type": "code",
      "source": [
        "final_results"
      ],
      "execution_count": 91,
      "outputs": [
        {
          "output_type": "execute_result",
          "data": {
            "text/html": [
              "<div>\n",
              "<style scoped>\n",
              "    .dataframe tbody tr th:only-of-type {\n",
              "        vertical-align: middle;\n",
              "    }\n",
              "\n",
              "    .dataframe tbody tr th {\n",
              "        vertical-align: top;\n",
              "    }\n",
              "\n",
              "    .dataframe thead th {\n",
              "        text-align: right;\n",
              "    }\n",
              "</style>\n",
              "<table border=\"1\" class=\"dataframe\">\n",
              "  <thead>\n",
              "    <tr style=\"text-align: right;\">\n",
              "      <th></th>\n",
              "      <th>entry_id</th>\n",
              "      <th>e_signed</th>\n",
              "      <th>predictions</th>\n",
              "    </tr>\n",
              "  </thead>\n",
              "  <tbody>\n",
              "    <tr>\n",
              "      <th>8</th>\n",
              "      <td>6493191</td>\n",
              "      <td>1.0</td>\n",
              "      <td>1</td>\n",
              "    </tr>\n",
              "    <tr>\n",
              "      <th>9</th>\n",
              "      <td>8908605</td>\n",
              "      <td>1.0</td>\n",
              "      <td>1</td>\n",
              "    </tr>\n",
              "    <tr>\n",
              "      <th>12</th>\n",
              "      <td>6889184</td>\n",
              "      <td>1.0</td>\n",
              "      <td>0</td>\n",
              "    </tr>\n",
              "    <tr>\n",
              "      <th>16</th>\n",
              "      <td>9375601</td>\n",
              "      <td>0.0</td>\n",
              "      <td>1</td>\n",
              "    </tr>\n",
              "    <tr>\n",
              "      <th>18</th>\n",
              "      <td>8515555</td>\n",
              "      <td>1.0</td>\n",
              "      <td>1</td>\n",
              "    </tr>\n",
              "    <tr>\n",
              "      <th>31</th>\n",
              "      <td>2881357</td>\n",
              "      <td>0.0</td>\n",
              "      <td>0</td>\n",
              "    </tr>\n",
              "    <tr>\n",
              "      <th>33</th>\n",
              "      <td>7048193</td>\n",
              "      <td>1.0</td>\n",
              "      <td>1</td>\n",
              "    </tr>\n",
              "    <tr>\n",
              "      <th>37</th>\n",
              "      <td>5815308</td>\n",
              "      <td>1.0</td>\n",
              "      <td>1</td>\n",
              "    </tr>\n",
              "    <tr>\n",
              "      <th>44</th>\n",
              "      <td>8700190</td>\n",
              "      <td>1.0</td>\n",
              "      <td>1</td>\n",
              "    </tr>\n",
              "    <tr>\n",
              "      <th>45</th>\n",
              "      <td>8232654</td>\n",
              "      <td>0.0</td>\n",
              "      <td>0</td>\n",
              "    </tr>\n",
              "    <tr>\n",
              "      <th>47</th>\n",
              "      <td>6017637</td>\n",
              "      <td>0.0</td>\n",
              "      <td>1</td>\n",
              "    </tr>\n",
              "    <tr>\n",
              "      <th>48</th>\n",
              "      <td>9071675</td>\n",
              "      <td>0.0</td>\n",
              "      <td>1</td>\n",
              "    </tr>\n",
              "    <tr>\n",
              "      <th>51</th>\n",
              "      <td>2718414</td>\n",
              "      <td>0.0</td>\n",
              "      <td>0</td>\n",
              "    </tr>\n",
              "    <tr>\n",
              "      <th>60</th>\n",
              "      <td>1213384</td>\n",
              "      <td>1.0</td>\n",
              "      <td>1</td>\n",
              "    </tr>\n",
              "    <tr>\n",
              "      <th>65</th>\n",
              "      <td>9217393</td>\n",
              "      <td>0.0</td>\n",
              "      <td>1</td>\n",
              "    </tr>\n",
              "    <tr>\n",
              "      <th>69</th>\n",
              "      <td>1401385</td>\n",
              "      <td>0.0</td>\n",
              "      <td>0</td>\n",
              "    </tr>\n",
              "    <tr>\n",
              "      <th>74</th>\n",
              "      <td>3385813</td>\n",
              "      <td>1.0</td>\n",
              "      <td>0</td>\n",
              "    </tr>\n",
              "    <tr>\n",
              "      <th>88</th>\n",
              "      <td>3337988</td>\n",
              "      <td>1.0</td>\n",
              "      <td>0</td>\n",
              "    </tr>\n",
              "    <tr>\n",
              "      <th>94</th>\n",
              "      <td>5646177</td>\n",
              "      <td>1.0</td>\n",
              "      <td>0</td>\n",
              "    </tr>\n",
              "    <tr>\n",
              "      <th>103</th>\n",
              "      <td>6428253</td>\n",
              "      <td>1.0</td>\n",
              "      <td>0</td>\n",
              "    </tr>\n",
              "    <tr>\n",
              "      <th>119</th>\n",
              "      <td>8739167</td>\n",
              "      <td>0.0</td>\n",
              "      <td>1</td>\n",
              "    </tr>\n",
              "    <tr>\n",
              "      <th>122</th>\n",
              "      <td>9260893</td>\n",
              "      <td>0.0</td>\n",
              "      <td>0</td>\n",
              "    </tr>\n",
              "    <tr>\n",
              "      <th>124</th>\n",
              "      <td>6989789</td>\n",
              "      <td>1.0</td>\n",
              "      <td>1</td>\n",
              "    </tr>\n",
              "    <tr>\n",
              "      <th>127</th>\n",
              "      <td>5032836</td>\n",
              "      <td>0.0</td>\n",
              "      <td>0</td>\n",
              "    </tr>\n",
              "    <tr>\n",
              "      <th>129</th>\n",
              "      <td>5770277</td>\n",
              "      <td>1.0</td>\n",
              "      <td>0</td>\n",
              "    </tr>\n",
              "    <tr>\n",
              "      <th>134</th>\n",
              "      <td>9129594</td>\n",
              "      <td>1.0</td>\n",
              "      <td>0</td>\n",
              "    </tr>\n",
              "    <tr>\n",
              "      <th>142</th>\n",
              "      <td>4488789</td>\n",
              "      <td>1.0</td>\n",
              "      <td>0</td>\n",
              "    </tr>\n",
              "    <tr>\n",
              "      <th>146</th>\n",
              "      <td>3265474</td>\n",
              "      <td>1.0</td>\n",
              "      <td>0</td>\n",
              "    </tr>\n",
              "    <tr>\n",
              "      <th>150</th>\n",
              "      <td>4867078</td>\n",
              "      <td>1.0</td>\n",
              "      <td>1</td>\n",
              "    </tr>\n",
              "    <tr>\n",
              "      <th>154</th>\n",
              "      <td>5700559</td>\n",
              "      <td>1.0</td>\n",
              "      <td>1</td>\n",
              "    </tr>\n",
              "    <tr>\n",
              "      <th>...</th>\n",
              "      <td>...</td>\n",
              "      <td>...</td>\n",
              "      <td>...</td>\n",
              "    </tr>\n",
              "    <tr>\n",
              "      <th>17779</th>\n",
              "      <td>2853843</td>\n",
              "      <td>0.0</td>\n",
              "      <td>1</td>\n",
              "    </tr>\n",
              "    <tr>\n",
              "      <th>17781</th>\n",
              "      <td>9800690</td>\n",
              "      <td>1.0</td>\n",
              "      <td>1</td>\n",
              "    </tr>\n",
              "    <tr>\n",
              "      <th>17796</th>\n",
              "      <td>8721355</td>\n",
              "      <td>0.0</td>\n",
              "      <td>0</td>\n",
              "    </tr>\n",
              "    <tr>\n",
              "      <th>17805</th>\n",
              "      <td>3386085</td>\n",
              "      <td>1.0</td>\n",
              "      <td>0</td>\n",
              "    </tr>\n",
              "    <tr>\n",
              "      <th>17811</th>\n",
              "      <td>6775612</td>\n",
              "      <td>0.0</td>\n",
              "      <td>1</td>\n",
              "    </tr>\n",
              "    <tr>\n",
              "      <th>17813</th>\n",
              "      <td>4985718</td>\n",
              "      <td>1.0</td>\n",
              "      <td>0</td>\n",
              "    </tr>\n",
              "    <tr>\n",
              "      <th>17814</th>\n",
              "      <td>2864796</td>\n",
              "      <td>0.0</td>\n",
              "      <td>1</td>\n",
              "    </tr>\n",
              "    <tr>\n",
              "      <th>17815</th>\n",
              "      <td>5737298</td>\n",
              "      <td>1.0</td>\n",
              "      <td>1</td>\n",
              "    </tr>\n",
              "    <tr>\n",
              "      <th>17820</th>\n",
              "      <td>4274110</td>\n",
              "      <td>1.0</td>\n",
              "      <td>1</td>\n",
              "    </tr>\n",
              "    <tr>\n",
              "      <th>17831</th>\n",
              "      <td>6093659</td>\n",
              "      <td>0.0</td>\n",
              "      <td>1</td>\n",
              "    </tr>\n",
              "    <tr>\n",
              "      <th>17835</th>\n",
              "      <td>7083364</td>\n",
              "      <td>1.0</td>\n",
              "      <td>1</td>\n",
              "    </tr>\n",
              "    <tr>\n",
              "      <th>17846</th>\n",
              "      <td>2040701</td>\n",
              "      <td>0.0</td>\n",
              "      <td>0</td>\n",
              "    </tr>\n",
              "    <tr>\n",
              "      <th>17847</th>\n",
              "      <td>7100904</td>\n",
              "      <td>1.0</td>\n",
              "      <td>1</td>\n",
              "    </tr>\n",
              "    <tr>\n",
              "      <th>17850</th>\n",
              "      <td>5038970</td>\n",
              "      <td>1.0</td>\n",
              "      <td>1</td>\n",
              "    </tr>\n",
              "    <tr>\n",
              "      <th>17854</th>\n",
              "      <td>8092654</td>\n",
              "      <td>1.0</td>\n",
              "      <td>1</td>\n",
              "    </tr>\n",
              "    <tr>\n",
              "      <th>17857</th>\n",
              "      <td>7045673</td>\n",
              "      <td>1.0</td>\n",
              "      <td>0</td>\n",
              "    </tr>\n",
              "    <tr>\n",
              "      <th>17864</th>\n",
              "      <td>7997931</td>\n",
              "      <td>0.0</td>\n",
              "      <td>1</td>\n",
              "    </tr>\n",
              "    <tr>\n",
              "      <th>17865</th>\n",
              "      <td>5946920</td>\n",
              "      <td>0.0</td>\n",
              "      <td>0</td>\n",
              "    </tr>\n",
              "    <tr>\n",
              "      <th>17866</th>\n",
              "      <td>3275691</td>\n",
              "      <td>1.0</td>\n",
              "      <td>1</td>\n",
              "    </tr>\n",
              "    <tr>\n",
              "      <th>17867</th>\n",
              "      <td>8990324</td>\n",
              "      <td>1.0</td>\n",
              "      <td>1</td>\n",
              "    </tr>\n",
              "    <tr>\n",
              "      <th>17871</th>\n",
              "      <td>2247736</td>\n",
              "      <td>1.0</td>\n",
              "      <td>0</td>\n",
              "    </tr>\n",
              "    <tr>\n",
              "      <th>17875</th>\n",
              "      <td>4736767</td>\n",
              "      <td>1.0</td>\n",
              "      <td>0</td>\n",
              "    </tr>\n",
              "    <tr>\n",
              "      <th>17876</th>\n",
              "      <td>3749453</td>\n",
              "      <td>0.0</td>\n",
              "      <td>1</td>\n",
              "    </tr>\n",
              "    <tr>\n",
              "      <th>17877</th>\n",
              "      <td>9192574</td>\n",
              "      <td>0.0</td>\n",
              "      <td>1</td>\n",
              "    </tr>\n",
              "    <tr>\n",
              "      <th>17880</th>\n",
              "      <td>3620673</td>\n",
              "      <td>1.0</td>\n",
              "      <td>0</td>\n",
              "    </tr>\n",
              "    <tr>\n",
              "      <th>17881</th>\n",
              "      <td>5028251</td>\n",
              "      <td>1.0</td>\n",
              "      <td>1</td>\n",
              "    </tr>\n",
              "    <tr>\n",
              "      <th>17888</th>\n",
              "      <td>8958068</td>\n",
              "      <td>0.0</td>\n",
              "      <td>0</td>\n",
              "    </tr>\n",
              "    <tr>\n",
              "      <th>17890</th>\n",
              "      <td>3605941</td>\n",
              "      <td>0.0</td>\n",
              "      <td>1</td>\n",
              "    </tr>\n",
              "    <tr>\n",
              "      <th>17901</th>\n",
              "      <td>1807355</td>\n",
              "      <td>0.0</td>\n",
              "      <td>1</td>\n",
              "    </tr>\n",
              "    <tr>\n",
              "      <th>17907</th>\n",
              "      <td>1498559</td>\n",
              "      <td>1.0</td>\n",
              "      <td>1</td>\n",
              "    </tr>\n",
              "  </tbody>\n",
              "</table>\n",
              "<p>3582 rows × 3 columns</p>\n",
              "</div>"
            ],
            "text/plain": [
              "       entry_id  e_signed  predictions\n",
              "8       6493191       1.0            1\n",
              "9       8908605       1.0            1\n",
              "12      6889184       1.0            0\n",
              "16      9375601       0.0            1\n",
              "18      8515555       1.0            1\n",
              "31      2881357       0.0            0\n",
              "33      7048193       1.0            1\n",
              "37      5815308       1.0            1\n",
              "44      8700190       1.0            1\n",
              "45      8232654       0.0            0\n",
              "47      6017637       0.0            1\n",
              "48      9071675       0.0            1\n",
              "51      2718414       0.0            0\n",
              "60      1213384       1.0            1\n",
              "65      9217393       0.0            1\n",
              "69      1401385       0.0            0\n",
              "74      3385813       1.0            0\n",
              "88      3337988       1.0            0\n",
              "94      5646177       1.0            0\n",
              "103     6428253       1.0            0\n",
              "119     8739167       0.0            1\n",
              "122     9260893       0.0            0\n",
              "124     6989789       1.0            1\n",
              "127     5032836       0.0            0\n",
              "129     5770277       1.0            0\n",
              "134     9129594       1.0            0\n",
              "142     4488789       1.0            0\n",
              "146     3265474       1.0            0\n",
              "150     4867078       1.0            1\n",
              "154     5700559       1.0            1\n",
              "...         ...       ...          ...\n",
              "17779   2853843       0.0            1\n",
              "17781   9800690       1.0            1\n",
              "17796   8721355       0.0            0\n",
              "17805   3386085       1.0            0\n",
              "17811   6775612       0.0            1\n",
              "17813   4985718       1.0            0\n",
              "17814   2864796       0.0            1\n",
              "17815   5737298       1.0            1\n",
              "17820   4274110       1.0            1\n",
              "17831   6093659       0.0            1\n",
              "17835   7083364       1.0            1\n",
              "17846   2040701       0.0            0\n",
              "17847   7100904       1.0            1\n",
              "17850   5038970       1.0            1\n",
              "17854   8092654       1.0            1\n",
              "17857   7045673       1.0            0\n",
              "17864   7997931       0.0            1\n",
              "17865   5946920       0.0            0\n",
              "17866   3275691       1.0            1\n",
              "17867   8990324       1.0            1\n",
              "17871   2247736       1.0            0\n",
              "17875   4736767       1.0            0\n",
              "17876   3749453       0.0            1\n",
              "17877   9192574       0.0            1\n",
              "17880   3620673       1.0            0\n",
              "17881   5028251       1.0            1\n",
              "17888   8958068       0.0            0\n",
              "17890   3605941       0.0            1\n",
              "17901   1807355       0.0            1\n",
              "17907   1498559       1.0            1\n",
              "\n",
              "[3582 rows x 3 columns]"
            ]
          },
          "metadata": {
            "tags": []
          },
          "execution_count": 91
        }
      ]
    },
    {
      "metadata": {
        "id": "rsWi0aubj0l8",
        "colab_type": "text"
      },
      "cell_type": "markdown",
      "source": [
        "---\n",
        "---\n"
      ]
    }
  ]
}